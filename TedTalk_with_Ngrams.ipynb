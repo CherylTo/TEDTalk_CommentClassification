{
 "cells": [
  {
   "cell_type": "markdown",
   "metadata": {},
   "source": [
    "# Analysing TEDTalk Data: Proposing a Recommender System for Encouraging Global Discourse \n",
    "\n",
    "TED is a nonprofit devoted to spreading ideas, usually in the form of short, powerful talks (18 minutes or less). TED began in 1984 as a conference where Technology, Entertainment and Design converged, and today covers almost all topics — from science to business to global issues — in more than 100 languages. Meanwhile, independently run TEDx events help share ideas in communities around the world. <br>\n",
    "\n",
    "Our Mission: Spread ideas\n",
    "TED is a global community, welcoming people from every discipline and culture who seek a deeper understanding of the world. We believe passionately in the power of ideas to change attitudes, lives and, ultimately, the world. On TED.com, we're building a clearinghouse of free knowledge from the world's most inspired thinkers — and a community of curious souls to engage with ideas and each other, both online and at TED and TEDx events around the world, all year long. <br>\n",
    "\n",
    "Project: <br>\n",
    "In line with TED's mission to foster a community of 'curious souls' to engage with ideas and each other, TED events are posted online (on ted.com and YouTube). TED viewers are able to comment on the videos offering their independent opinions, ideas, and insights. To encourage global discourse, it may be in the platform's best interest to make relevant / relevant+positive comments more easily accessible and visible. To achieve this, my capstone project will use tf_idf scores and cosine similarities to identify relevant comments. As well, I will use Textblob to determine comment sentiment. Then using unsupervised k-means, I will label comments in one of 6 classes: <br>\n",
    "* positive + relevant<br>\n",
    "* positive + irrelevant<br>\n",
    "* neutral + relevant<br>\n",
    "* neutral + irrelevant<br>\n",
    "* negative + relevant<br>\n",
    "* negative + irrelevant<br>\n",
    "\n",
    "I argue that comments that are positive and relevant should be given higher priority, while those taht are negative and irrelevant should be given lower priority."
   ]
  },
  {
   "cell_type": "code",
   "execution_count": 9,
   "metadata": {
    "collapsed": true
   },
   "outputs": [],
   "source": [
    "import json\n",
    "import pandas as pd\n",
    "import numpy as np\n",
    "import gensim\n",
    "from nltk.stem import WordNetLemmatizer\n",
    "from nltk.tokenize import word_tokenize\n",
    "from nltk.tokenize import sent_tokenize\n",
    "from nltk.corpus import stopwords\n",
    "from nltk.tokenize import RegexpTokenizer\n",
    "from nltk.collocations import BigramCollocationFinder\n",
    "from nltk.metrics import BigramAssocMeasures\n",
    "from nltk.collocations import BigramCollocationFinder\n",
    "from nltk.metrics import BigramAssocMeasures\n",
    "stopwords = set(stopwords.words('english'))\n",
    "from textblob import TextBlob\n",
    "import matplotlib.pyplot as plt\n",
    "%matplotlib inline"
   ]
  },
  {
   "cell_type": "code",
   "execution_count": 10,
   "metadata": {
    "collapsed": true
   },
   "outputs": [],
   "source": [
    "json_talk = pd.read_json(\"/Users/cherylto/Dropbox/Ryerson Course/Capstone/Data/ted_talks-10-Sep-2012.json\")"
   ]
  },
  {
   "cell_type": "code",
   "execution_count": 68,
   "metadata": {},
   "outputs": [
    {
     "data": {
      "text/html": [
       "<div>\n",
       "<style>\n",
       "    .dataframe thead tr:only-child th {\n",
       "        text-align: right;\n",
       "    }\n",
       "\n",
       "    .dataframe thead th {\n",
       "        text-align: left;\n",
       "    }\n",
       "\n",
       "    .dataframe tbody tr th {\n",
       "        vertical-align: top;\n",
       "    }\n",
       "</style>\n",
       "<table border=\"1\" class=\"dataframe\">\n",
       "  <thead>\n",
       "    <tr style=\"text-align: right;\">\n",
       "      <th></th>\n",
       "      <th>comments</th>\n",
       "      <th>description</th>\n",
       "      <th>film_date</th>\n",
       "      <th>id</th>\n",
       "      <th>publish_date</th>\n",
       "      <th>related_tags</th>\n",
       "      <th>related_themes</th>\n",
       "      <th>related_videos</th>\n",
       "      <th>speaker</th>\n",
       "      <th>ted_event</th>\n",
       "      <th>title</th>\n",
       "      <th>transcript</th>\n",
       "      <th>url</th>\n",
       "      <th>views</th>\n",
       "    </tr>\n",
       "  </thead>\n",
       "  <tbody>\n",
       "    <tr>\n",
       "      <th>0</th>\n",
       "      <td>[{'user_id': '3b6dbeb2375b632ad5f9dc9d15a9aa94...</td>\n",
       "      <td>[Scott Fraser studies how humans remember crim...</td>\n",
       "      <td>May 2012</td>\n",
       "      <td>062dd0f773cd5999a09714a371e1f8017163e2a1</td>\n",
       "      <td>Sep 2012</td>\n",
       "      <td>[Crime, Global issues, Government, Law, Memory...</td>\n",
       "      <td>[How the Mind Works]</td>\n",
       "      <td>[Bryan Stevenson: We need to talk about an inj...</td>\n",
       "      <td>Scott Fraser</td>\n",
       "      <td>TEDxUSC</td>\n",
       "      <td>[Scott Fraser: Why eyewitnesses get it wrong]</td>\n",
       "      <td>The murder happened a little over 21 years ago...</td>\n",
       "      <td>http://www.ted.com/talks/scott_fraser_the_prob...</td>\n",
       "      <td>[21,025]</td>\n",
       "    </tr>\n",
       "    <tr>\n",
       "      <th>1</th>\n",
       "      <td>[{'user_id': '7cb24a132dd5f8fd6c2d0c8e248b9708...</td>\n",
       "      <td>[Want to navigate the solar system without hav...</td>\n",
       "      <td>Dec 2011</td>\n",
       "      <td>62f6479a5eca39725798b1ee300bd8d5de3a4ae3</td>\n",
       "      <td>Jun 2012</td>\n",
       "      <td>[Demo, Exploration, Science, Software, Space, ...</td>\n",
       "      <td>[Peering into Space]</td>\n",
       "      <td>[Carter Emmart demos a 3D atlas of the universe ]</td>\n",
       "      <td>Jon Nguyen</td>\n",
       "      <td>TEDxSanDiego</td>\n",
       "      <td>[Jon Nguyen: Tour the solar system from home]</td>\n",
       "      <td>As a kid, I was fascinated with all things air...</td>\n",
       "      <td>http://www.ted.com/talks/jon_nguyen_tour_the_s...</td>\n",
       "      <td>[220,795]</td>\n",
       "    </tr>\n",
       "    <tr>\n",
       "      <th>2</th>\n",
       "      <td>[{'user_id': '658b3da5aefb6a2ede53560d8ea4d960...</td>\n",
       "      <td>[During the hot summer months, watching an out...</td>\n",
       "      <td>Apr 2012</td>\n",
       "      <td>b35c0cd294cd10748019833cafa625fc33487065</td>\n",
       "      <td>Jun 2012</td>\n",
       "      <td>[Entertainment, Environment, Global issues, In...</td>\n",
       "      <td>[Design That Matters, Presentation Innovation,...</td>\n",
       "      <td>[Peter Diamandis: Abundance is our future, Amy...</td>\n",
       "      <td>Wolfgang Kessling</td>\n",
       "      <td>TEDxSummit</td>\n",
       "      <td>[Wolfgang Kessling: How to air-condition outdo...</td>\n",
       "      <td>Good evening. We are in this wonderful open-ai...</td>\n",
       "      <td>http://www.ted.com/talks/wolfgang_kessling_how...</td>\n",
       "      <td>[230,813]</td>\n",
       "    </tr>\n",
       "    <tr>\n",
       "      <th>3</th>\n",
       "      <td>[{'user_id': '75adf5391c6cd74a190e5259e6caafeb...</td>\n",
       "      <td>[Prompted by the Encyclopaedia Britannica endi...</td>\n",
       "      <td>Apr 2012</td>\n",
       "      <td>0fa6bca242ccb96697e8de570882c6b38746591a</td>\n",
       "      <td>Jun 2012</td>\n",
       "      <td>[Entertainment, Internet, Science, Web, Wikipe...</td>\n",
       "      <td>[Master Storytellers, How We Learn]</td>\n",
       "      <td>[Rives: A story of mixed emoticons, A.J. Jacob...</td>\n",
       "      <td>Rives</td>\n",
       "      <td>TEDxSummit</td>\n",
       "      <td>[Rives: Reinventing the encyclopedia game]</td>\n",
       "      <td>So, last month, the Encyclopaedia Britannica a...</td>\n",
       "      <td>http://www.ted.com/talks/rives_reinventing_the...</td>\n",
       "      <td>[200,203]</td>\n",
       "    </tr>\n",
       "    <tr>\n",
       "      <th>4</th>\n",
       "      <td>[{'user_id': '520b4877fcc4047921af318801a168d3...</td>\n",
       "      <td>[Massimo Banzi helped invent the Arduino, a ti...</td>\n",
       "      <td>Jun 2012</td>\n",
       "      <td>41db62481aeb978fd13f591755b596ff0616be70</td>\n",
       "      <td>Jun 2012</td>\n",
       "      <td>[Creativity, Open-source, Robots, Technology]</td>\n",
       "      <td>[Tales of Invention, Art Unusual]</td>\n",
       "      <td>[Kate Hartman: The art of wearable communicati...</td>\n",
       "      <td>Massimo Banzi</td>\n",
       "      <td>TEDGlobal 2012</td>\n",
       "      <td>[Massimo Banzi: How Arduino is open-sourcing i...</td>\n",
       "      <td>So a few weeks ago, a friend of mine gave this...</td>\n",
       "      <td>http://www.ted.com/talks/massimo_banzi_how_ard...</td>\n",
       "      <td>[358,737]</td>\n",
       "    </tr>\n",
       "  </tbody>\n",
       "</table>\n",
       "</div>"
      ],
      "text/plain": [
       "                                            comments  \\\n",
       "0  [{'user_id': '3b6dbeb2375b632ad5f9dc9d15a9aa94...   \n",
       "1  [{'user_id': '7cb24a132dd5f8fd6c2d0c8e248b9708...   \n",
       "2  [{'user_id': '658b3da5aefb6a2ede53560d8ea4d960...   \n",
       "3  [{'user_id': '75adf5391c6cd74a190e5259e6caafeb...   \n",
       "4  [{'user_id': '520b4877fcc4047921af318801a168d3...   \n",
       "\n",
       "                                         description film_date  \\\n",
       "0  [Scott Fraser studies how humans remember crim...  May 2012   \n",
       "1  [Want to navigate the solar system without hav...  Dec 2011   \n",
       "2  [During the hot summer months, watching an out...  Apr 2012   \n",
       "3  [Prompted by the Encyclopaedia Britannica endi...  Apr 2012   \n",
       "4  [Massimo Banzi helped invent the Arduino, a ti...  Jun 2012   \n",
       "\n",
       "                                         id publish_date  \\\n",
       "0  062dd0f773cd5999a09714a371e1f8017163e2a1     Sep 2012   \n",
       "1  62f6479a5eca39725798b1ee300bd8d5de3a4ae3     Jun 2012   \n",
       "2  b35c0cd294cd10748019833cafa625fc33487065     Jun 2012   \n",
       "3  0fa6bca242ccb96697e8de570882c6b38746591a     Jun 2012   \n",
       "4  41db62481aeb978fd13f591755b596ff0616be70     Jun 2012   \n",
       "\n",
       "                                        related_tags  \\\n",
       "0  [Crime, Global issues, Government, Law, Memory...   \n",
       "1  [Demo, Exploration, Science, Software, Space, ...   \n",
       "2  [Entertainment, Environment, Global issues, In...   \n",
       "3  [Entertainment, Internet, Science, Web, Wikipe...   \n",
       "4      [Creativity, Open-source, Robots, Technology]   \n",
       "\n",
       "                                      related_themes  \\\n",
       "0                               [How the Mind Works]   \n",
       "1                               [Peering into Space]   \n",
       "2  [Design That Matters, Presentation Innovation,...   \n",
       "3                [Master Storytellers, How We Learn]   \n",
       "4                  [Tales of Invention, Art Unusual]   \n",
       "\n",
       "                                      related_videos            speaker  \\\n",
       "0  [Bryan Stevenson: We need to talk about an inj...       Scott Fraser   \n",
       "1  [Carter Emmart demos a 3D atlas of the universe ]         Jon Nguyen   \n",
       "2  [Peter Diamandis: Abundance is our future, Amy...  Wolfgang Kessling   \n",
       "3  [Rives: A story of mixed emoticons, A.J. Jacob...              Rives   \n",
       "4  [Kate Hartman: The art of wearable communicati...      Massimo Banzi   \n",
       "\n",
       "        ted_event                                              title  \\\n",
       "0         TEDxUSC      [Scott Fraser: Why eyewitnesses get it wrong]   \n",
       "1    TEDxSanDiego      [Jon Nguyen: Tour the solar system from home]   \n",
       "2      TEDxSummit  [Wolfgang Kessling: How to air-condition outdo...   \n",
       "3      TEDxSummit         [Rives: Reinventing the encyclopedia game]   \n",
       "4  TEDGlobal 2012  [Massimo Banzi: How Arduino is open-sourcing i...   \n",
       "\n",
       "                                          transcript  \\\n",
       "0  The murder happened a little over 21 years ago...   \n",
       "1  As a kid, I was fascinated with all things air...   \n",
       "2  Good evening. We are in this wonderful open-ai...   \n",
       "3  So, last month, the Encyclopaedia Britannica a...   \n",
       "4  So a few weeks ago, a friend of mine gave this...   \n",
       "\n",
       "                                                 url      views  \n",
       "0  http://www.ted.com/talks/scott_fraser_the_prob...   [21,025]  \n",
       "1  http://www.ted.com/talks/jon_nguyen_tour_the_s...  [220,795]  \n",
       "2  http://www.ted.com/talks/wolfgang_kessling_how...  [230,813]  \n",
       "3  http://www.ted.com/talks/rives_reinventing_the...  [200,203]  \n",
       "4  http://www.ted.com/talks/massimo_banzi_how_ard...  [358,737]  "
      ]
     },
     "execution_count": 68,
     "metadata": {},
     "output_type": "execute_result"
    }
   ],
   "source": [
    "json_talk.head()"
   ]
  },
  {
   "cell_type": "markdown",
   "metadata": {},
   "source": [
    "Here, we acan see that the comments are nested in json format. To extract just the coments, I will use the function below."
   ]
  },
  {
   "cell_type": "code",
   "execution_count": 11,
   "metadata": {
    "collapsed": true
   },
   "outputs": [],
   "source": [
    "#This nifty function gets all the values from specific key pairs despite nesting :) :) \n",
    "def find(key, dictionary):\n",
    "    for k, v in dictionary.items():\n",
    "        if k == key:\n",
    "            yield v\n",
    "        elif isinstance(v, dict):\n",
    "            for result in find(key, v):\n",
    "                yield result\n",
    "        elif isinstance(v, list):\n",
    "            for d in v:\n",
    "                for result in find(key, d):\n",
    "                    yield result"
   ]
  },
  {
   "cell_type": "code",
   "execution_count": 13,
   "metadata": {
    "collapsed": true
   },
   "outputs": [],
   "source": [
    "#Creates nested tuples and puts them in a dataframe\n",
    "_id = []\n",
    "zipped_list = []\n",
    "for i in range(len(json_talk['comments'])):   \n",
    "    doc_id = json_talk['id'][i] #gets the ted_talk id\n",
    "    _id.append(doc_id)\n",
    "    zipped = ()\n",
    "    text = []\n",
    "    user_id = []\n",
    "    for j in range(len(json_talk['comments'][i])):\n",
    "        txt = list(find('text', json_talk['comments'][i][j]))    #this actually creates list of list of lists\n",
    "        text.append(txt)\n",
    "        usr = list(find('user_id', json_talk['comments'][i][j]))\n",
    "        user_id.append(usr)\n",
    "    zipped = (text, user_id)\n",
    "    zipped_list.append(zipped)\n",
    "    \n",
    "df = pd.DataFrame(zipped_list, columns = ['comments', 'user_id'])\n"
   ]
  },
  {
   "cell_type": "code",
   "execution_count": 14,
   "metadata": {},
   "outputs": [
    {
     "data": {
      "text/html": [
       "<div>\n",
       "<style>\n",
       "    .dataframe thead tr:only-child th {\n",
       "        text-align: right;\n",
       "    }\n",
       "\n",
       "    .dataframe thead th {\n",
       "        text-align: left;\n",
       "    }\n",
       "\n",
       "    .dataframe tbody tr th {\n",
       "        vertical-align: top;\n",
       "    }\n",
       "</style>\n",
       "<table border=\"1\" class=\"dataframe\">\n",
       "  <thead>\n",
       "    <tr style=\"text-align: right;\">\n",
       "      <th></th>\n",
       "      <th>comments</th>\n",
       "      <th>user_id</th>\n",
       "      <th>transcripts</th>\n",
       "      <th>id</th>\n",
       "      <th>url</th>\n",
       "    </tr>\n",
       "  </thead>\n",
       "  <tbody>\n",
       "    <tr>\n",
       "      <th>0</th>\n",
       "      <td>[[Doesn't gunfire produce visual illumination ...</td>\n",
       "      <td>[[3b6dbeb2375b632ad5f9dc9d15a9aa94872785a8, e8...</td>\n",
       "      <td>The murder happened a little over 21 years ago...</td>\n",
       "      <td>062dd0f773cd5999a09714a371e1f8017163e2a1</td>\n",
       "      <td>http://www.ted.com/talks/scott_fraser_the_prob...</td>\n",
       "    </tr>\n",
       "    <tr>\n",
       "      <th>1</th>\n",
       "      <td>[[I would love to know how they solved the pro...</td>\n",
       "      <td>[[7cb24a132dd5f8fd6c2d0c8e248b9708353b1daf], [...</td>\n",
       "      <td>As a kid, I was fascinated with all things air...</td>\n",
       "      <td>62f6479a5eca39725798b1ee300bd8d5de3a4ae3</td>\n",
       "      <td>http://www.ted.com/talks/jon_nguyen_tour_the_s...</td>\n",
       "    </tr>\n",
       "    <tr>\n",
       "      <th>2</th>\n",
       "      <td>[[Actually, It is simple idea that we use sola...</td>\n",
       "      <td>[[658b3da5aefb6a2ede53560d8ea4d9600f289477], [...</td>\n",
       "      <td>Good evening. We are in this wonderful open-ai...</td>\n",
       "      <td>b35c0cd294cd10748019833cafa625fc33487065</td>\n",
       "      <td>http://www.ted.com/talks/wolfgang_kessling_how...</td>\n",
       "    </tr>\n",
       "    <tr>\n",
       "      <th>3</th>\n",
       "      <td>[[I used to do this as a kid all the time, tho...</td>\n",
       "      <td>[[75adf5391c6cd74a190e5259e6caafeb9226095b], [...</td>\n",
       "      <td>So, last month, the Encyclopaedia Britannica a...</td>\n",
       "      <td>0fa6bca242ccb96697e8de570882c6b38746591a</td>\n",
       "      <td>http://www.ted.com/talks/rives_reinventing_the...</td>\n",
       "    </tr>\n",
       "    <tr>\n",
       "      <th>4</th>\n",
       "      <td>[[Where is the video where this guy shows us t...</td>\n",
       "      <td>[[520b4877fcc4047921af318801a168d348a15a64], [...</td>\n",
       "      <td>So a few weeks ago, a friend of mine gave this...</td>\n",
       "      <td>41db62481aeb978fd13f591755b596ff0616be70</td>\n",
       "      <td>http://www.ted.com/talks/massimo_banzi_how_ard...</td>\n",
       "    </tr>\n",
       "  </tbody>\n",
       "</table>\n",
       "</div>"
      ],
      "text/plain": [
       "                                            comments  \\\n",
       "0  [[Doesn't gunfire produce visual illumination ...   \n",
       "1  [[I would love to know how they solved the pro...   \n",
       "2  [[Actually, It is simple idea that we use sola...   \n",
       "3  [[I used to do this as a kid all the time, tho...   \n",
       "4  [[Where is the video where this guy shows us t...   \n",
       "\n",
       "                                             user_id  \\\n",
       "0  [[3b6dbeb2375b632ad5f9dc9d15a9aa94872785a8, e8...   \n",
       "1  [[7cb24a132dd5f8fd6c2d0c8e248b9708353b1daf], [...   \n",
       "2  [[658b3da5aefb6a2ede53560d8ea4d9600f289477], [...   \n",
       "3  [[75adf5391c6cd74a190e5259e6caafeb9226095b], [...   \n",
       "4  [[520b4877fcc4047921af318801a168d348a15a64], [...   \n",
       "\n",
       "                                         transcripts  \\\n",
       "0  The murder happened a little over 21 years ago...   \n",
       "1  As a kid, I was fascinated with all things air...   \n",
       "2  Good evening. We are in this wonderful open-ai...   \n",
       "3  So, last month, the Encyclopaedia Britannica a...   \n",
       "4  So a few weeks ago, a friend of mine gave this...   \n",
       "\n",
       "                                         id  \\\n",
       "0  062dd0f773cd5999a09714a371e1f8017163e2a1   \n",
       "1  62f6479a5eca39725798b1ee300bd8d5de3a4ae3   \n",
       "2  b35c0cd294cd10748019833cafa625fc33487065   \n",
       "3  0fa6bca242ccb96697e8de570882c6b38746591a   \n",
       "4  41db62481aeb978fd13f591755b596ff0616be70   \n",
       "\n",
       "                                                 url  \n",
       "0  http://www.ted.com/talks/scott_fraser_the_prob...  \n",
       "1  http://www.ted.com/talks/jon_nguyen_tour_the_s...  \n",
       "2  http://www.ted.com/talks/wolfgang_kessling_how...  \n",
       "3  http://www.ted.com/talks/rives_reinventing_the...  \n",
       "4  http://www.ted.com/talks/massimo_banzi_how_ard...  "
      ]
     },
     "execution_count": 14,
     "metadata": {},
     "output_type": "execute_result"
    }
   ],
   "source": [
    "df['transcripts'] = json_talk['transcript']\n",
    "df['id'] = json_talk['id']\n",
    "df['url'] = json_talk['url']\n",
    "df.head()"
   ]
  },
  {
   "cell_type": "markdown",
   "metadata": {},
   "source": [
    "I have kepts some extra columns in here becaues I want to do some more analysis later."
   ]
  },
  {
   "cell_type": "markdown",
   "metadata": {},
   "source": [
    "### Preparing Transcripts"
   ]
  },
  {
   "cell_type": "code",
   "execution_count": 15,
   "metadata": {
    "collapsed": true
   },
   "outputs": [],
   "source": [
    "#from nltk.collocations import BigramCollocationFinder\n",
    "#from nltk.metrics import BigramAssocMeasures\n",
    "#from nltk.corpus import stopwords\n",
    "#stopset = set(stopwords.words('english'))\n",
    "def find_bigrams(unigrams):\n",
    "    words = [w.lower() for w in unigrams]\n",
    "    bcf = BigramCollocationFinder.from_words(words)\n",
    "    filter_stops = lambda w: len(w) < 3 or w in stopwords\n",
    "    bcf.apply_freq_filter(3)\n",
    "    bcf.apply_word_filter(filter_stops)\n",
    "    bigrams = bcf.nbest(BigramAssocMeasures.likelihood_ratio, 10)\n",
    "    return bigrams"
   ]
  },
  {
   "cell_type": "code",
   "execution_count": 16,
   "metadata": {
    "collapsed": true
   },
   "outputs": [],
   "source": [
    "#from nltk.collocations import TrigramCollocationFinder\n",
    "#from nltk.metrics import TrigramAssocMeasures\n",
    "def find_trigrams(unigrams):\n",
    "    words = [w.lower() for w in unigrams]\n",
    "    tcf = TrigramCollocationFinder.from_words(words)\n",
    "    filter_stops = lambda w: len(w) < 3 or w in stopwords\n",
    "    tcf.apply_word_filter(filter_stops)\n",
    "    tcf.apply_freq_filter(3)\n",
    "    trigrams = tcf.nbest(TrigramAssocMeasures.likelihood_ratio, 4)\n",
    "    return trigrams"
   ]
  },
  {
   "cell_type": "code",
   "execution_count": 17,
   "metadata": {
    "collapsed": true,
    "scrolled": true
   },
   "outputs": [],
   "source": [
    "big_doc = []\n",
    "for i in range(len(df)):\n",
    "    text=[]\n",
    "    text.append(df['transcripts'][i])\n",
    "    for line in df['comments'][i]:\n",
    "        for y in line:\n",
    "            c = y\n",
    "            text.append(c)\n",
    "    big_doc.append(text)    "
   ]
  },
  {
   "cell_type": "code",
   "execution_count": 18,
   "metadata": {
    "scrolled": true
   },
   "outputs": [
    {
     "name": "stdout",
     "output_type": "stream",
     "text": [
      "['The murder happened a little over 21 years ago, January the 18th, 1991, in a small bedroom community of Lynwood, California, just a few miles southeast of Los Angeles. A father came out of his house to tell his teenage son and his five friends that it was time for them to stop horsing around on the front lawn and on the sidewalk, to get home, finish their schoolwork, and prepare themselves for bed. And as the father was administering these instructions, a car drove by, slowly, and just after it passed the father and the teenagers, a hand went out from the front passenger window, and \"Bam, Bam!\" killing the father. And the car sped off. The police, investigating officers, were amazingly efficient. They considered all the usual culprits, and in less than 24 hours, they had selected their suspect: Francisco Carrillo, a 17-year-old kid who lived about two or three blocks away from where the shooting occurred. They found photos of him. They prepared a photo array, and the day after the shooting, they showed it to one of the teenagers, and he said, \"That\\'s the picture. That\\'s the shooter I saw that killed the father.\" That was all a preliminary hearing judge had to listen to, to bind Mr. Carrillo over to stand trial for a first degree murder. In the investigation that followed before the actual trial, each of the other five teenagers was shown photographs, the same photo array. The picture that we best can determine was probably the one that they were shown in the photo array is in your bottom left hand corner of these mug shots. The reason we\\'re not sure absolutely is because of the nature of evidence preservation in our judicial system, but that\\'s another whole TEDx talk for later. (Laughter) So at the actual trial, all six of the teenagers testified, and indicated the identifications they had made in the photo array. He was convicted. He was sentenced to life imprisonment, and transported to Folsom Prison. So what\\'s wrong? Straightforward, fair trial, full investigation. Oh yes, no gun was ever found. No vehicle was ever identified as being the one in which the shooter had extended his arm, and no person was ever charged with being the driver of the shooter\\'s vehicle. And Mr. Carrillo\\'s alibi? Which of those parents here in the room might not lie concerning the whereabouts of your son or daughter in an investigation of a killing? Sent to prison, adamantly insisting on his innocence, which he has consistently for 21 years. So what\\'s the problem? The problems actually for this kind of case come manyfold from decades of scientific research involving human memory. First of all, we have all the statistical analyses from the Innocence Project work, where we know that we have, what, 250, 280 documented cases now where people have been wrongfully convicted and subsequently exonerated, some from death row, on the basis of later DNA analysis, and you know that over three quarters of all of those cases of exoneration involved only eyewitness identification testimony during the trial that convicted them. We know that eyewitness identifications are fallible. The other comes from an interesting aspect of human memory that\\'s related to various brain functions but I can sum up for the sake of brevity here in a simple line: The brain abhors a vacuum. Under the best of observation conditions, the absolute best, we only detect, encode and store in our brains bits and pieces of the entire experience in front of us, and they\\'re stored in different parts of the brain. So now, when it\\'s important for us to be able to recall what it was that we experienced, we have an incomplete, we have a partial store, and what happens? For all awareness, with no requirement for any kind of motivated processing, the brain fills in information that was not there, not originally stored, from inference, from speculation, from sources of information that came to you, as the observer, after the observation. But it happens without awareness such that you don\\'t, aren\\'t even cognizant of it occurring. It\\'s called reconstructive memories. It happens to us in all the aspects of our life all the time. Let me ask you to consider the horrific events of 9/11. Think about when you first got the information about this catastrophe, how you felt, and more importantly, when was the first time you saw the second trade tower implode and collapse after the first trade tower had gone down? If you\\'re like most Americans, myself included, you have a very clear memory that you saw the first tower come down and then you saw the second tower finally collapse, after the other plane crashed into it, within an hour or two afterward. I remember vividly where I was. I was down at LAX at the satellite terminal for American Airlines waiting to get on an airplanes to fly to San Diego, and of course all the air traffic was ceased. And so I had nothing to do but to sit and watch the television monitors with all of the news broadcasts over and over and over again of the horrendous events. And I know I saw that second trade tower come down an hour or two after the first. And all of the research we have indicates that most Americans too, except for a few people who happen to live in certain places in New York, right? And you know something? That\\'s a totally false memory. It could not be something you experienced. There was absolutely no media footage of the second trade tower collapsing until over 24 hours after the event. But in fact, you know, intellectually, cognitively, that they did occur fairly close in time, you did know about and see the first one, you did see the second one, but you didn\\'t see it until over a day later at the earliest, but the brain, without you being aware, has pulled them together, and you believe you saw them very close in time. It is a reconstructed memory, not an accurate memory, no matter how vivid, no matter how sure you are. It was those two considerations among others, reconstructive memories, the fact about the eyewitness fallibility, that was part of the instigation for a group of appeal attorneys led by an amazing lawyer named Ellen Eggers to pool their experience and their talents together and petition a superior court for a retrial for Francisco Carrillo. They retained me, as a forensic neurophysiologist, because I had expertise in eyewitness memory identification, which obviously makes sense for this case, right? But also because I have expertise and testify about the nature of human night vision. Well, what\\'s that got to do with this? Well, when you read through the case materials in this Carrillo case, one of the things that suddenly strikes you is that the investigating officers said the lighting was good at the crime scene, at the shooting. All the teenagers testified during the trial that they could see very well. But this occurred in mid-January, in the Northern Hemisphere, at 7 p.m. at night. So when I did the calculations for the lunar data and the solar data at that location on Earth at the time of the incident of the shooting, all right, it was well past the end of civil twilight and there was no moon up that night. So all the light in this area from the sun and the moon is what you see on the screen right here. The only lighting in that area had to come from artificial sources, and that\\'s where I go out and I do the actual reconstruction of the scene with photometers, with various measures of illumination and various other measures of color perception, along with special cameras and high speed film, right? Take all the measurements and record them, right? And then take photographs, and this is what the scene looked like at the time of the shooting from the position of the teenagers looking at the car going by and shooting. This is looking directly across the street from where they were standing. Remember, the investigating officers\\' report said the lighting was good. Teenagers had said they could see very well. This is looking down to the east, where the shooting vehicle sped off, and this is the lighting directly behind the father and the teenagers. As you can see, it is at best poor. No one\\'s going to call this well-lit, good lighting, and in fact, as nice as these pictures are, and the reason we take them is I knew I was going to have to testify in court, and a picture is worth more than a thousand words when you\\'re trying to communicate numbers, abstract concepts like lux, the international measurement of illumination, the Ishihara color perception test values. When you present those to people who are not well-versed in those aspects of science and that, they become salamanders in the noon day sun. It\\'s like talking about the tangent of the visual angle, all right? Their eyes just glaze over, all right? A good forensic expert also has to be a good educator, a good communicator, and that\\'s part of the reason why we take the pictures, to show not only where the light sources are, and what we call the spill, the distribution, but also so that it\\'s easier for the trier of fact to understand the circumstances. So these are some of the pictures that, in fact, I used when I testified, but more importantly were, to me as a scientist, are those readings, the photometer readings, which I can then convert into actual predictions of the visual capability of the human eye under those circumstances, and from my readings that I recorded at the scene under the same solar and lunar conditions at the same time, so on and so forth, right, I could predict that there would be no reliable color perception, which is crucial for face recognition, and that there would be only scotopic vision, which means there would be very little resolution, what we call boundary or edge detection, and that furthermore, because the eyes would have been totally dilated under this light, the depth of field, the distance at which you can focus and see details, would have been less than 18 inches away. I testified to that to the court, and while the judge was very attentive, it had been a very, very long hearing for this petition for a retrial, and as a result, I noticed out of the corner of my eye that I thought that maybe the judge was going to need a little more of a nudge than just more numbers. And here I became a bit audacious, and I turned and I asked the judge, I said, \"Your Honor, I think you should go out and look at the scene yourself.\" Now I may have used a tone which was more like a dare than a request — (Laughter) — but nonetheless, it\\'s to this man\\'s credit and his courage that he said, \"Yes, I will.\" A shocker in American jurisprudence. So in fact, we found the same identical conditions, we reconstructed the entire thing again, he came out with an entire brigade of sheriff\\'s officers to protect him in this community, all right? (Laughter) We had him stand actually slightly in the street, so closer to the suspect vehicle, the shooter vehicle, than the actual teenagers were, so he stood a few feet from the curb toward the middle of the street. We had a car that came by, same identical car as described by the teenagers, right? It had a driver and a passenger, and after the car had passed the judge by, the passenger extended his hand, pointed it back to the judge as the car continued on, just as the teenagers had described it, right? Now, he didn\\'t use a real gun in his hand, so he had a black object in his hand that was similar to the gun that was described. He pointed by, and this is what the judge saw. This is the car 30 feet away from the judge. There\\'s an arm sticking out of the passenger side and pointed back at you. That\\'s 30 feet away. Some of the teenagers said that in fact the car was 15 feet away when it shot. Okay. There\\'s 15 feet. At this point, I became a little concerned. This judge is someone you\\'d never want to play poker with. He was totally stoic. I couldn\\'t see a twitch of his eyebrow. I couldn\\'t see the slightest bend of his head. I had no sense of how he was reacting to this, and after he looked at this reenactment, he turned to me and he says, \"Is there anything else you want me to look at?\" (Laughter) I said, \"Your honor,\" and I don\\'t know whether I was emboldened by the scientific measurements that I had in my pocket and my knowledge that they are accurate, or whether it was just sheer stupidity, which is what the defense lawyers thought — (Laughter) — when they heard me say, \"Yes, Your Honor, I want you stand right there and I want the car to go around the block again and I want it to come and I want it to stop right in front of you, three to four feet away, and I want the passenger to extend his hand with a black object and point it right at you, and you can look at it as long as you want.\" And that\\'s what he saw. (Laughter) You\\'ll notice, which was also in my test report, all the dominant lighting is coming from the north side, which means that the shooter\\'s face would have been photo-occluded. It would have been backlit. Furthermore, the roof of the car is causing what we call a shadow cloud inside the car which is making it darker. And this is three to four feet away. Why did I take the risk? I knew that the depth of field was 18 inches or less. Three to four feet, it might as well have been a football field away. This is what he saw. He went back, there was a few more days of evidence that was heard. At the end of it, he made the judgment that he was going to grant the petition for a retrial. And furthermore, he released Mr. Carrillo so that he could aid in the preparation of his own defense if the prosecution decided to retry him. Which they decided not to. He is now a freed man. (Applause) (Applause) This is him embracing his grandmother-in-law. He -- His girlfriend was pregnant when he went to trial, right? And she had a little baby boy. He and his son are both attending Cal State Long Beach right now taking classes. (Applause) (Applause) And what does this example, what\\'s important to keep in mind for ourselves? First of all, there\\'s a long history of antipathy between science and the law in American jurisprudence. I could regale you with horror stories of ignorance over decades of experience as a forensic expert of just trying to get science into the courtroom. The opposing council always fight it and oppose it. One suggestion is that all of us become much more attuned to the necessity, through policy, through procedures, to get more science in the courtroom, and I think one large step toward that is more requirements, with all due respect to the law schools, of science, technology, engineering, mathematics for anyone going into the law, because they become the judges. Think about how we select our judges in this country. It\\'s very different than most other cultures. All right? The other one that I want to suggest, the caution that all of us have to have, I constantly have to remind myself, about just how accurate are the memories that we know are true, that we believe in? There are decades of research, examples and examples of cases like this, where individuals really, really believe. None of those teenagers, right, who identified him, right, thought that they were picking the wrong person. None of them thought they couldn\\'t see the person\\'s face. We all have to be very careful. All our memories are reconstructed memories. They are the product of what we originally experienced and everything that\\'s happened afterwards. They\\'re dynamic. They\\'re malleable. They\\'re volatile, and as a result, we all need to remember to be cautious, that the accuracy of our memories is not measured in how vivid they are nor how certain you are that they\\'re correct. I\\'m sure I saw the second trade tower collapse an hour later, but I know it could not have happened. Thank you. (Applause)', \"Doesn't gunfire produce visual illumination as well? Couldn't the gunflash light up the person's face for the instant it would take to imprint that image indelibly. \\n Hmm?\", \"That's a good question. I have a question for you. If someone takes a picture of you at night and uses the camera's flash, would it blind you? Would you see or remember the photographers face?\", 'As a former illusion designer, I can tell you that \"strobes\" are used to further reduce a person\\'s depth of field and color depth by causing a sudden contraction of the pupil which leaves them unprepared for the following darkness. \\nI assume a muzzle flash would act in a similar fashion to strobes.', 'I also thought about it, and I guess what we imagine is something we saw in a hollywood film. :)', \"He's wrong, the first video coverage of the world trade towers being released was I think LIVE coverage through ABC Good Morning America. It was being filmed live because they use to use the backdrop of the NYC skyline.  http://archive.org/details/abc200109110831-0912   Coverage of the first attack starts at time 19:54   and you are literally watching the 2nd plane hit at about 31:20.\", 'I\\'ve heard this argument being made before in studies about eyewitness testimony and memory fallibility, but now that I\\'m looking for it, I can\\'t find it...I *am* finding \"false memory\" comments about people remembering seeing the *first* plane hit, and that there wasn\\'t actually any footage of that, so they couldn\\'t have--either he confused that fact, or people are still confusing this one, or...something\\'s being remembered wrong, anyway... So I guess the point stands, right? :P', \"he's not talking about the live footage of the second plane flying into the tower. he says that there was no live coverage of the second tower collapsing.\", \"It seems that he, himself, has created a false memory.  CNN, I remember, had live footage of the North tower collapse, which is plainly available with a Google search. \\nAt best he's confusing the idea that people believe they saw the first plane hit, which they didn't for at least 24 hours, but as it's worded, he is incorrect.\", 'He very clearly is discussing the second tower falling, not being hit.  Video of that tower falling was not shown until the next day.  I know that I only saw one tower come down, on that day, but remembered it as the second tower, for whatever reason.  He has made his point and it doesn\\'t matter how much sharper the human eye is compared to a camera, it is the brain that tells you what you saw.  If an individual is going to be convicted on eyewitness testimony alone (no DNA, no gun, no car, no confession) it needs to be held to a high standard, i.e., the \"beyond a reasonable doub\"t standard.', 'Alexandria, you should Google it.  You are somehow creating the false memory of a false memory.  It\\'s like the Inception of false memories. \\nHere is the footage from CNN, as it was aired, LIVE at 10:28 AM, the exact time of the North Tower\\'s collapse:  http://www.youtube.com/watch?v=9MgRP2T6FJU \\nWith such easy research tools at our disposal, holding to a claim like \"Video of that tower falling was not shown until the next day. I know that I only saw one tower come down, on that day, but remembered it as the second tower, for whatever reason.\" is ludicrous.', 'My question: the court system of America vs Europe. Which one is better?', 'Which countries? Or are you asking about Federal US courts against the European Courts of Justice?', \"The court system in US is different to almost the whole world. I wonder what's the good things or bad things of that system? Which one has better change to deliver justice?\", \"I have no intention of being condesending, but I think it is rather ignorant to compare one country's judicial system to a whole continent's. Your question assumes that the system is equal in Britain, as in Germany, as in Russia, as in Sweden etc. The judicial system in the US is anglo-saxian, as is the British. There are pros and cons with all kinds of systems. On a personal note, it is my belief that the system in place in the US (and Britain) favours the persons who can afford the most expensive lawyers who in turn can put on the most spectacular show, disregarding actual evidence. \\nI might be throwing rocks being from Sweden (referring to the Assange trial &gt;\", 'Under normal circumstances, the human eye has a higher dynamic range than a camera. A picture taken at night is most likely not representative of what a person would be able to see. A picture is not necessarily worth a thousand words.', 'I recall a lot of science in the O.J. Simpson trial.', 'Dr. Scott was the director of the Senior Honors Program at USC when I was there. He is one of the most brilliant thinkers of our time and I was so thrilled to see this talk! The section about our collective reconstructed memory about 9/11 is timely and shocking!  Great talk, Dr. Scott!!!!', \"I recently took place in a Film Club on Hubski:  http://hubski.com/pub?id=33542  in which we watched Sidney Lumet's first and last film. His first Film was 12 Angry Men and I can't help but think of it when listening to this talk. The entire plot of that film centers around the subjectivity of human memory.  \\nGreat talk sir. Check out 12 Angry Men if you haven't in a while.\"]\n"
     ]
    }
   ],
   "source": [
    "print(big_doc[0])"
   ]
  },
  {
   "cell_type": "code",
   "execution_count": 19,
   "metadata": {
    "collapsed": true
   },
   "outputs": [],
   "source": [
    "from sklearn.feature_extraction.text import TfidfVectorizer\n",
    "from sklearn.metrics.pairwise import cosine_similarity\n",
    "vectorizer = TfidfVectorizer(min_df= 3, ngram_range = (1,3), stop_words = stopwords, sublinear_tf = True)\n",
    "\n",
    "scores = []\n",
    "for i in range(len(big_doc)):\n",
    "    corpus = big_doc[i]\n",
    "    X = vectorizer.fit_transform(corpus)\n",
    "    idf = vectorizer.idf_\n",
    "    #print(dict(zip(vectorizer.get_feature_names(), idf)))\n",
    "    s = cosine_similarity(X[0], X)[0][1:]\n",
    "    scores.append(s)"
   ]
  },
  {
   "cell_type": "code",
   "execution_count": 20,
   "metadata": {},
   "outputs": [
    {
     "data": {
      "text/plain": [
       "array([0.27916435, 0.05552224, 0.30669249, 0.21220657, 0.45422667,\n",
       "       0.32584764, 0.31283231, 0.21637009, 0.19897071, 0.28202815,\n",
       "       0.08254211, 0.        , 0.10726777, 0.06335407, 0.18396917,\n",
       "       0.        , 0.04376788, 0.20387429, 0.10244154, 0.3154726 ,\n",
       "       0.32103648, 0.08864192, 0.06217536, 0.18490773, 0.01919509,\n",
       "       0.41743731, 0.10383243, 0.02731287, 0.21649396, 0.29903738,\n",
       "       0.10332771, 0.21395993, 0.43016082, 0.16172058, 0.16276139,\n",
       "       0.10720524, 0.0632579 , 0.13475369, 0.17871392, 0.36664014,\n",
       "       0.25217264, 0.0966134 , 0.07216025, 0.29260226, 0.        ,\n",
       "       0.29940829, 0.23891328, 0.07688218, 0.        , 0.13090041,\n",
       "       0.15910954, 0.11606883, 0.05629514, 0.04505256])"
      ]
     },
     "execution_count": 20,
     "metadata": {},
     "output_type": "execute_result"
    }
   ],
   "source": [
    "scores[1]"
   ]
  },
  {
   "cell_type": "code",
   "execution_count": 22,
   "metadata": {
    "collapsed": true
   },
   "outputs": [],
   "source": [
    "all_data = pd.DataFrame()\n",
    "for i in range(len(json_talk['comments'])):\n",
    "    title = json_talk['id'][i]\n",
    "    for j in range(len(json_talk['comments'][i])):\n",
    "        users, comments = list(find('user_id', json_talk['comments'][i][j])), list(find('text', json_talk['comments'][i][j]))\n",
    "        data = pd.DataFrame(list(zip(users,comments)))\n",
    "        titles = pd.DataFrame(title, index=range(len(data)), columns = range(1))\n",
    "        data = pd.concat((titles, data), axis = 1)\n",
    "        all_data=pd.concat((all_data, data), axis = 0)\n",
    "        \n",
    "all_data.reset_index(inplace = True, drop = True)\n",
    "all_data.columns = [['title_index', 'user', 'comment']]"
   ]
  },
  {
   "cell_type": "code",
   "execution_count": 23,
   "metadata": {},
   "outputs": [
    {
     "data": {
      "text/html": [
       "<div>\n",
       "<style>\n",
       "    .dataframe thead tr:only-child th {\n",
       "        text-align: right;\n",
       "    }\n",
       "\n",
       "    .dataframe thead th {\n",
       "        text-align: left;\n",
       "    }\n",
       "\n",
       "    .dataframe tbody tr th {\n",
       "        vertical-align: top;\n",
       "    }\n",
       "</style>\n",
       "<table border=\"1\" class=\"dataframe\">\n",
       "  <thead>\n",
       "    <tr style=\"text-align: right;\">\n",
       "      <th></th>\n",
       "      <th>title_index</th>\n",
       "      <th>user</th>\n",
       "      <th>comment</th>\n",
       "    </tr>\n",
       "  </thead>\n",
       "  <tbody>\n",
       "    <tr>\n",
       "      <th>0</th>\n",
       "      <td>062dd0f773cd5999a09714a371e1f8017163e2a1</td>\n",
       "      <td>3b6dbeb2375b632ad5f9dc9d15a9aa94872785a8</td>\n",
       "      <td>Doesn't gunfire produce visual illumination as...</td>\n",
       "    </tr>\n",
       "    <tr>\n",
       "      <th>1</th>\n",
       "      <td>062dd0f773cd5999a09714a371e1f8017163e2a1</td>\n",
       "      <td>e85b0a70877bfa83adaa5addae46e5c35a3d41b5</td>\n",
       "      <td>That's a good question. I have a question for ...</td>\n",
       "    </tr>\n",
       "    <tr>\n",
       "      <th>2</th>\n",
       "      <td>062dd0f773cd5999a09714a371e1f8017163e2a1</td>\n",
       "      <td>6b3269077e6a58a02aa2e06bd4dec6d3c08d248f</td>\n",
       "      <td>As a former illusion designer, I can tell you ...</td>\n",
       "    </tr>\n",
       "    <tr>\n",
       "      <th>3</th>\n",
       "      <td>062dd0f773cd5999a09714a371e1f8017163e2a1</td>\n",
       "      <td>77b4bd37440e730458a65d372b7b1949c7d70537</td>\n",
       "      <td>I also thought about it, and I guess what we i...</td>\n",
       "    </tr>\n",
       "    <tr>\n",
       "      <th>4</th>\n",
       "      <td>062dd0f773cd5999a09714a371e1f8017163e2a1</td>\n",
       "      <td>30324bcbe4f8e4ecf3268f8ff7fb4420c2e1067e</td>\n",
       "      <td>He's wrong, the first video coverage of the wo...</td>\n",
       "    </tr>\n",
       "  </tbody>\n",
       "</table>\n",
       "</div>"
      ],
      "text/plain": [
       "                                title_index  \\\n",
       "0  062dd0f773cd5999a09714a371e1f8017163e2a1   \n",
       "1  062dd0f773cd5999a09714a371e1f8017163e2a1   \n",
       "2  062dd0f773cd5999a09714a371e1f8017163e2a1   \n",
       "3  062dd0f773cd5999a09714a371e1f8017163e2a1   \n",
       "4  062dd0f773cd5999a09714a371e1f8017163e2a1   \n",
       "\n",
       "                                       user  \\\n",
       "0  3b6dbeb2375b632ad5f9dc9d15a9aa94872785a8   \n",
       "1  e85b0a70877bfa83adaa5addae46e5c35a3d41b5   \n",
       "2  6b3269077e6a58a02aa2e06bd4dec6d3c08d248f   \n",
       "3  77b4bd37440e730458a65d372b7b1949c7d70537   \n",
       "4  30324bcbe4f8e4ecf3268f8ff7fb4420c2e1067e   \n",
       "\n",
       "                                             comment  \n",
       "0  Doesn't gunfire produce visual illumination as...  \n",
       "1  That's a good question. I have a question for ...  \n",
       "2  As a former illusion designer, I can tell you ...  \n",
       "3  I also thought about it, and I guess what we i...  \n",
       "4  He's wrong, the first video coverage of the wo...  "
      ]
     },
     "execution_count": 23,
     "metadata": {},
     "output_type": "execute_result"
    }
   ],
   "source": [
    "all_data.head()"
   ]
  },
  {
   "cell_type": "code",
   "execution_count": 24,
   "metadata": {},
   "outputs": [
    {
     "data": {
      "text/plain": [
       "array([0.26860088, 0.36244988, 0.22311914, 0.2207571 , 0.29716722,\n",
       "       0.40569282, 0.26737444, 0.40647152, 0.56153876, 0.54077045,\n",
       "       0.17824901, 0.17186084, 0.29841321, 0.28070917, 0.38633942,\n",
       "       0.21216435, 0.31856536, 0.26565772])"
      ]
     },
     "execution_count": 24,
     "metadata": {},
     "output_type": "execute_result"
    }
   ],
   "source": [
    "scores[0]"
   ]
  },
  {
   "cell_type": "code",
   "execution_count": 25,
   "metadata": {},
   "outputs": [
    {
     "data": {
      "text/plain": [
       "0.2686008829564263"
      ]
     },
     "execution_count": 25,
     "metadata": {},
     "output_type": "execute_result"
    }
   ],
   "source": [
    "scores[0][0]"
   ]
  },
  {
   "cell_type": "code",
   "execution_count": 26,
   "metadata": {
    "collapsed": true
   },
   "outputs": [],
   "source": [
    "flattened = []\n",
    "\n",
    "for i in scores:\n",
    "    for j in i:\n",
    "        flattened.append(j)"
   ]
  },
  {
   "cell_type": "code",
   "execution_count": 27,
   "metadata": {
    "collapsed": true
   },
   "outputs": [],
   "source": [
    "all_data['sim_scores'] = flattened"
   ]
  },
  {
   "cell_type": "code",
   "execution_count": 28,
   "metadata": {},
   "outputs": [
    {
     "data": {
      "text/plain": [
       "<matplotlib.axes._subplots.AxesSubplot at 0x1a5ef1d128>"
      ]
     },
     "execution_count": 28,
     "metadata": {},
     "output_type": "execute_result"
    },
    {
     "data": {
      "image/png": "[encoded data removed]",
      "text/plain": [
       "<matplotlib.figure.Figure at 0x1a5f13ae48>"
      ]
     },
     "metadata": {},
     "output_type": "display_data"
    }
   ],
   "source": [
    "all_data['sim_scores'].hist(bins = 100)\n"
   ]
  },
  {
   "cell_type": "markdown",
   "metadata": {},
   "source": [
    "## Sentiment"
   ]
  },
  {
   "cell_type": "code",
   "execution_count": 29,
   "metadata": {
    "collapsed": true
   },
   "outputs": [],
   "source": [
    "senti = []\n",
    "\n",
    "for line in all_data['comment']:\n",
    "    b = TextBlob(line)\n",
    "    senti.append(b.sentiment.polarity)\n",
    "            "
   ]
  },
  {
   "cell_type": "code",
   "execution_count": 30,
   "metadata": {
    "collapsed": true
   },
   "outputs": [],
   "source": [
    "all_data['sentiment'] = senti"
   ]
  },
  {
   "cell_type": "code",
   "execution_count": 31,
   "metadata": {},
   "outputs": [
    {
     "data": {
      "text/html": [
       "<div>\n",
       "<style>\n",
       "    .dataframe thead tr:only-child th {\n",
       "        text-align: right;\n",
       "    }\n",
       "\n",
       "    .dataframe thead th {\n",
       "        text-align: left;\n",
       "    }\n",
       "\n",
       "    .dataframe tbody tr th {\n",
       "        vertical-align: top;\n",
       "    }\n",
       "</style>\n",
       "<table border=\"1\" class=\"dataframe\">\n",
       "  <thead>\n",
       "    <tr style=\"text-align: right;\">\n",
       "      <th></th>\n",
       "      <th>title_index</th>\n",
       "      <th>user</th>\n",
       "      <th>comment</th>\n",
       "      <th>sim_scores</th>\n",
       "      <th>sentiment</th>\n",
       "    </tr>\n",
       "  </thead>\n",
       "  <tbody>\n",
       "    <tr>\n",
       "      <th>0</th>\n",
       "      <td>062dd0f773cd5999a09714a371e1f8017163e2a1</td>\n",
       "      <td>3b6dbeb2375b632ad5f9dc9d15a9aa94872785a8</td>\n",
       "      <td>Doesn't gunfire produce visual illumination as...</td>\n",
       "      <td>0.268601</td>\n",
       "      <td>0.133333</td>\n",
       "    </tr>\n",
       "    <tr>\n",
       "      <th>1</th>\n",
       "      <td>062dd0f773cd5999a09714a371e1f8017163e2a1</td>\n",
       "      <td>e85b0a70877bfa83adaa5addae46e5c35a3d41b5</td>\n",
       "      <td>That's a good question. I have a question for ...</td>\n",
       "      <td>0.362450</td>\n",
       "      <td>0.100000</td>\n",
       "    </tr>\n",
       "    <tr>\n",
       "      <th>2</th>\n",
       "      <td>062dd0f773cd5999a09714a371e1f8017163e2a1</td>\n",
       "      <td>6b3269077e6a58a02aa2e06bd4dec6d3c08d248f</td>\n",
       "      <td>As a former illusion designer, I can tell you ...</td>\n",
       "      <td>0.223119</td>\n",
       "      <td>0.000000</td>\n",
       "    </tr>\n",
       "    <tr>\n",
       "      <th>3</th>\n",
       "      <td>062dd0f773cd5999a09714a371e1f8017163e2a1</td>\n",
       "      <td>77b4bd37440e730458a65d372b7b1949c7d70537</td>\n",
       "      <td>I also thought about it, and I guess what we i...</td>\n",
       "      <td>0.220757</td>\n",
       "      <td>0.500000</td>\n",
       "    </tr>\n",
       "    <tr>\n",
       "      <th>4</th>\n",
       "      <td>062dd0f773cd5999a09714a371e1f8017163e2a1</td>\n",
       "      <td>30324bcbe4f8e4ecf3268f8ff7fb4420c2e1067e</td>\n",
       "      <td>He's wrong, the first video coverage of the wo...</td>\n",
       "      <td>0.297167</td>\n",
       "      <td>0.138961</td>\n",
       "    </tr>\n",
       "  </tbody>\n",
       "</table>\n",
       "</div>"
      ],
      "text/plain": [
       "                                title_index  \\\n",
       "0  062dd0f773cd5999a09714a371e1f8017163e2a1   \n",
       "1  062dd0f773cd5999a09714a371e1f8017163e2a1   \n",
       "2  062dd0f773cd5999a09714a371e1f8017163e2a1   \n",
       "3  062dd0f773cd5999a09714a371e1f8017163e2a1   \n",
       "4  062dd0f773cd5999a09714a371e1f8017163e2a1   \n",
       "\n",
       "                                       user  \\\n",
       "0  3b6dbeb2375b632ad5f9dc9d15a9aa94872785a8   \n",
       "1  e85b0a70877bfa83adaa5addae46e5c35a3d41b5   \n",
       "2  6b3269077e6a58a02aa2e06bd4dec6d3c08d248f   \n",
       "3  77b4bd37440e730458a65d372b7b1949c7d70537   \n",
       "4  30324bcbe4f8e4ecf3268f8ff7fb4420c2e1067e   \n",
       "\n",
       "                                             comment  sim_scores  sentiment  \n",
       "0  Doesn't gunfire produce visual illumination as...    0.268601   0.133333  \n",
       "1  That's a good question. I have a question for ...    0.362450   0.100000  \n",
       "2  As a former illusion designer, I can tell you ...    0.223119   0.000000  \n",
       "3  I also thought about it, and I guess what we i...    0.220757   0.500000  \n",
       "4  He's wrong, the first video coverage of the wo...    0.297167   0.138961  "
      ]
     },
     "execution_count": 31,
     "metadata": {},
     "output_type": "execute_result"
    }
   ],
   "source": [
    "all_data.head()"
   ]
  },
  {
   "cell_type": "code",
   "execution_count": 32,
   "metadata": {
    "collapsed": true
   },
   "outputs": [],
   "source": [
    "#all_data.to_csv(\"all_data.csv\")"
   ]
  },
  {
   "cell_type": "markdown",
   "metadata": {},
   "source": [
    "### K-means"
   ]
  },
  {
   "cell_type": "code",
   "execution_count": 33,
   "metadata": {
    "collapsed": true
   },
   "outputs": [],
   "source": [
    "from sklearn.cluster import KMeans\n",
    "X = np.array([all_data['sim_scores'], all_data['sentiment']])"
   ]
  },
  {
   "cell_type": "code",
   "execution_count": 34,
   "metadata": {
    "collapsed": true
   },
   "outputs": [],
   "source": [
    "_X = np.transpose(X)"
   ]
  },
  {
   "cell_type": "markdown",
   "metadata": {},
   "source": [
    "### k = 6"
   ]
  },
  {
   "cell_type": "code",
   "execution_count": 35,
   "metadata": {},
   "outputs": [
    {
     "name": "stdout",
     "output_type": "stream",
     "text": [
      "[[ 0.07921856  0.00441822]\n",
      " [ 0.09185084  0.45385598]\n",
      " [ 0.21301015  0.12578141]\n",
      " [ 0.05893264  0.82215425]\n",
      " [ 0.09288281  0.22033091]\n",
      " [ 0.07383011 -0.34253121]]\n",
      "[2 2 2 ... 0 2 4]\n"
     ]
    }
   ],
   "source": [
    "kmeans = KMeans(n_clusters = 6, random_state = 0).fit(_X)\n",
    "centroids = kmeans.cluster_centers_\n",
    "labels = kmeans.labels_\n",
    "print(centroids)\n",
    "print(labels)"
   ]
  },
  {
   "cell_type": "code",
   "execution_count": 36,
   "metadata": {},
   "outputs": [
    {
     "data": {
      "image/png": "[encoded data removed]",
      "text/plain": [
       "<matplotlib.figure.Figure at 0x1a5f900438>"
      ]
     },
     "metadata": {},
     "output_type": "display_data"
    }
   ],
   "source": [
    "plt.figure(figsize = (10,5))\n",
    "label_c = {0: 'g', 1: 'b', 2: 'r', 3: 'c', 4: 'm', 5: 'y'}\n",
    "label_color = [label_c[l] for l in labels]\n",
    "plt.scatter(_X[:,0], _X[:,1], c=label_color)\n",
    "plt.scatter(centroids[:, 0], centroids[:, 1], c='black', s=200, alpha=0.5)\n",
    "plt.xlabel(\"tf_idf similarity\")\n",
    "plt.ylabel(\"sentiment\")\n",
    "plt.title(\"k = 6\")\n",
    "plt.show()"
   ]
  },
  {
   "cell_type": "markdown",
   "metadata": {},
   "source": [
    "The more similar comments are to the transcript, the more neutral the comment becomes. Comments that are high or low in sentiment tend to be low in relevance. Green and Purple seem to be very close together, and may not really represent differnet classes. But by removing 1 class, Centroid 3 gets becomes lowers on the x axis."
   ]
  },
  {
   "cell_type": "code",
   "execution_count": 38,
   "metadata": {},
   "outputs": [
    {
     "data": {
      "text/plain": [
       "Text(0.5,1,'The Elbow Method showing the optimal k')"
      ]
     },
     "execution_count": 38,
     "metadata": {},
     "output_type": "execute_result"
    },
    {
     "data": {
      "image/png": "[encoded data removed]",
      "text/plain": [
       "<matplotlib.figure.Figure at 0x1a5f118c88>"
      ]
     },
     "metadata": {},
     "output_type": "display_data"
    }
   ],
   "source": [
    "from scipy.spatial.distance import cdist\n",
    "# k means determine k\n",
    "distortions = []\n",
    "K = range(1,15)\n",
    "for k in K:\n",
    "    kmeanModel = KMeans(n_clusters=k).fit(_X)\n",
    "    kmeanModel.fit(_X)\n",
    "    distortions.append(sum(np.min(cdist(_X, kmeanModel.cluster_centers_, 'euclidean'), axis=1)) / _X.shape[0])\n",
    " \n",
    "# Plot the elbow\n",
    "plt.plot(K, distortions, 'bx-')\n",
    "plt.xlabel('k')\n",
    "plt.ylabel('Distortion')\n",
    "plt.title('The Elbow Method showing the optimal k')"
   ]
  },
  {
   "cell_type": "markdown",
   "metadata": {},
   "source": [
    "https://pythonprogramminglanguage.com/kmeans-elbow-method/"
   ]
  },
  {
   "cell_type": "markdown",
   "metadata": {},
   "source": [
    "The centroid for class 5 moved up a smiggen , but not by much."
   ]
  }
 ],
 "metadata": {
  "kernelspec": {
   "display_name": "Python 3",
   "language": "python",
   "name": "python3"
  },
  "language_info": {
   "codemirror_mode": {
    "name": "ipython",
    "version": 3
   },
   "file_extension": ".py",
   "mimetype": "text/x-python",
   "name": "python",
   "nbconvert_exporter": "python",
   "pygments_lexer": "ipython3",
   "version": "3.6.3"
  }
 },
 "nbformat": 4,
 "nbformat_minor": 2
}
