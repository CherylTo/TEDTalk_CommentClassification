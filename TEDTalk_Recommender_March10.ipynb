{
 "cells": [
  {
   "cell_type": "markdown",
   "metadata": {},
   "source": [
    "# TedTalk Recommender for Encouraging Discourse"
   ]
  },
  {
   "cell_type": "code",
   "execution_count": 22,
   "metadata": {
    "collapsed": true
   },
   "outputs": [],
   "source": [
    "import json\n",
    "import pandas as pd\n",
    "import numpy as np\n",
    "import gensim\n",
    "from nltk.stem import WordNetLemmatizer\n",
    "from nltk.tokenize import word_tokenize\n",
    "from nltk.tokenize import sent_tokenize\n",
    "from nltk.corpus import stopwords\n",
    "from nltk.tokenize import RegexpTokenizer\n",
    "from nltk.collocations import BigramCollocationFinder\n",
    "from nltk.metrics import BigramAssocMeasures\n",
    "from nltk.collocations import BigramCollocationFinder\n",
    "from nltk.metrics import BigramAssocMeasures\n",
    "from nltk.corpus import stopwords\n",
    "from textblob import TextBlob\n",
    "import matplotlib.pyplot as plt \n",
    "%matplotlib inline"
   ]
  },
  {
   "cell_type": "markdown",
   "metadata": {},
   "source": [
    "### Importing Data"
   ]
  },
  {
   "cell_type": "code",
   "execution_count": 23,
   "metadata": {
    "collapsed": true
   },
   "outputs": [],
   "source": [
    "json_talk = pd.read_json(\"/Users/cherylto/Dropbox/Ryerson Course/Capstone/Data/ted_talks-10-Sep-2012.json\")"
   ]
  },
  {
   "cell_type": "markdown",
   "metadata": {},
   "source": [
    "### Defining Functions"
   ]
  },
  {
   "cell_type": "code",
   "execution_count": 24,
   "metadata": {
    "collapsed": true
   },
   "outputs": [],
   "source": [
    "#This nifty function gets all the values from specific key pairs despite nesting :) :) \n",
    "def find(key, dictionary):\n",
    "    for k, v in dictionary.items():\n",
    "        if k == key:\n",
    "            yield v\n",
    "        elif isinstance(v, dict):\n",
    "            for result in find(key, v):\n",
    "                yield result\n",
    "        elif isinstance(v, list):\n",
    "            for d in v:\n",
    "                for result in find(key, d):\n",
    "                    yield result"
   ]
  },
  {
   "cell_type": "code",
   "execution_count": 25,
   "metadata": {},
   "outputs": [],
   "source": [
    "lemmatizer = WordNetLemmatizer()\n",
    "stopwords = set(stopwords.words('english'))\n",
    "def preprocess(document):\n",
    "    words = document.lower()\n",
    "    tokenizer = RegexpTokenizer(r'\\w+')\n",
    "    tokens = tokenizer.tokenize(words)\n",
    "    filtered_words = ' '.join([w for w in tokens if not w in stopwords])\n",
    "    filtered_words = ''.join([i for i in filtered_words if not i.isdigit()])\n",
    "    lemmas = lemmatizer.lemmatize(filtered_words)\n",
    "    return ''.join(lemmas)"
   ]
  },
  {
   "cell_type": "markdown",
   "metadata": {},
   "source": [
    "### Preparing Dataframe"
   ]
  },
  {
   "cell_type": "code",
   "execution_count": 26,
   "metadata": {
    "collapsed": true
   },
   "outputs": [],
   "source": [
    "#gets comment and video id and puts it in a dataframe\n",
    "_id = []\n",
    "zipped_list = []\n",
    "for i in range(len(json_talk['comments'])):   \n",
    "    doc_id = json_talk['id'][i] #gets the ted_talk id\n",
    "    _id.append(doc_id)\n",
    "    zipped = ()\n",
    "    text = []\n",
    "    date = []\n",
    "    for j in range(len(json_talk['comments'][i])):\n",
    "        dt, txt = list(find('date', json_talk['comments'][i][j]))[0], list(find('text', json_talk['comments'][i][j]))[0]   #this actually creates list of list of lists\n",
    "        text.append(txt)\n",
    "        date.append(dt)\n",
    "    zipped = (date, text, doc_id)\n",
    "    zipped_list.append(zipped)\n",
    "    \n",
    "df = pd.DataFrame(zipped_list, columns = ['date', 'comments', '_id'])"
   ]
  },
  {
   "cell_type": "code",
   "execution_count": 27,
   "metadata": {
    "collapsed": true
   },
   "outputs": [],
   "source": [
    "#adding transcripts to the dataframe\n",
    "df['transcripts'] = json_talk['transcript']"
   ]
  },
  {
   "cell_type": "code",
   "execution_count": 28,
   "metadata": {},
   "outputs": [
    {
     "data": {
      "text/html": [
       "<div>\n",
       "<style scoped>\n",
       "    .dataframe tbody tr th:only-of-type {\n",
       "        vertical-align: middle;\n",
       "    }\n",
       "\n",
       "    .dataframe tbody tr th {\n",
       "        vertical-align: top;\n",
       "    }\n",
       "\n",
       "    .dataframe thead th {\n",
       "        text-align: right;\n",
       "    }\n",
       "</style>\n",
       "<table border=\"1\" class=\"dataframe\">\n",
       "  <thead>\n",
       "    <tr style=\"text-align: right;\">\n",
       "      <th></th>\n",
       "      <th>date</th>\n",
       "      <th>comments</th>\n",
       "      <th>_id</th>\n",
       "      <th>transcripts</th>\n",
       "    </tr>\n",
       "  </thead>\n",
       "  <tbody>\n",
       "    <tr>\n",
       "      <th>0</th>\n",
       "      <td>[Sep 10 2012, Sep 10 2012, Sep 10 2012, Sep 10...</td>\n",
       "      <td>[Doesn't gunfire produce visual illumination a...</td>\n",
       "      <td>062dd0f773cd5999a09714a371e1f8017163e2a1</td>\n",
       "      <td>The murder happened a little over 21 years ago...</td>\n",
       "    </tr>\n",
       "    <tr>\n",
       "      <th>1</th>\n",
       "      <td>[Jul 25 2012:, Jul 25 2012:, Jul 25 2012:, Jul...</td>\n",
       "      <td>[I would love to know how they solved the prob...</td>\n",
       "      <td>62f6479a5eca39725798b1ee300bd8d5de3a4ae3</td>\n",
       "      <td>As a kid, I was fascinated with all things air...</td>\n",
       "    </tr>\n",
       "    <tr>\n",
       "      <th>2</th>\n",
       "      <td>[Aug 9 2012:, Jul 26 2012:, Jul 11 2012:, Jul ...</td>\n",
       "      <td>[Actually, It is simple idea that we use solar...</td>\n",
       "      <td>b35c0cd294cd10748019833cafa625fc33487065</td>\n",
       "      <td>Good evening. We are in this wonderful open-ai...</td>\n",
       "    </tr>\n",
       "    <tr>\n",
       "      <th>3</th>\n",
       "      <td>[Jul 19 2012:, Jul 16 2012:, Jul 14 2012:, Jul...</td>\n",
       "      <td>[I used to do this as a kid all the time, thou...</td>\n",
       "      <td>0fa6bca242ccb96697e8de570882c6b38746591a</td>\n",
       "      <td>So, last month, the Encyclopaedia Britannica a...</td>\n",
       "    </tr>\n",
       "    <tr>\n",
       "      <th>4</th>\n",
       "      <td>[Sep 10 2012, 2012-09-07, Aug 29 2012:, Aug 18...</td>\n",
       "      <td>[Where is the video where this guy shows us th...</td>\n",
       "      <td>41db62481aeb978fd13f591755b596ff0616be70</td>\n",
       "      <td>So a few weeks ago, a friend of mine gave this...</td>\n",
       "    </tr>\n",
       "  </tbody>\n",
       "</table>\n",
       "</div>"
      ],
      "text/plain": [
       "                                                date  \\\n",
       "0  [Sep 10 2012, Sep 10 2012, Sep 10 2012, Sep 10...   \n",
       "1  [Jul 25 2012:, Jul 25 2012:, Jul 25 2012:, Jul...   \n",
       "2  [Aug 9 2012:, Jul 26 2012:, Jul 11 2012:, Jul ...   \n",
       "3  [Jul 19 2012:, Jul 16 2012:, Jul 14 2012:, Jul...   \n",
       "4  [Sep 10 2012, 2012-09-07, Aug 29 2012:, Aug 18...   \n",
       "\n",
       "                                            comments  \\\n",
       "0  [Doesn't gunfire produce visual illumination a...   \n",
       "1  [I would love to know how they solved the prob...   \n",
       "2  [Actually, It is simple idea that we use solar...   \n",
       "3  [I used to do this as a kid all the time, thou...   \n",
       "4  [Where is the video where this guy shows us th...   \n",
       "\n",
       "                                        _id  \\\n",
       "0  062dd0f773cd5999a09714a371e1f8017163e2a1   \n",
       "1  62f6479a5eca39725798b1ee300bd8d5de3a4ae3   \n",
       "2  b35c0cd294cd10748019833cafa625fc33487065   \n",
       "3  0fa6bca242ccb96697e8de570882c6b38746591a   \n",
       "4  41db62481aeb978fd13f591755b596ff0616be70   \n",
       "\n",
       "                                         transcripts  \n",
       "0  The murder happened a little over 21 years ago...  \n",
       "1  As a kid, I was fascinated with all things air...  \n",
       "2  Good evening. We are in this wonderful open-ai...  \n",
       "3  So, last month, the Encyclopaedia Britannica a...  \n",
       "4  So a few weeks ago, a friend of mine gave this...  "
      ]
     },
     "execution_count": 28,
     "metadata": {},
     "output_type": "execute_result"
    }
   ],
   "source": [
    "df.head()"
   ]
  },
  {
   "cell_type": "code",
   "execution_count": 29,
   "metadata": {},
   "outputs": [],
   "source": [
    "def sentiment_scores(comment):\n",
    "    senti = []\n",
    "    for i in comment:\n",
    "        try:\n",
    "            b = TextBlob(i)\n",
    "            senti.append(b.sentiment.polarity)\n",
    "        except:\n",
    "            senti.append(0)\n",
    "    return senti\n"
   ]
  },
  {
   "cell_type": "code",
   "execution_count": 64,
   "metadata": {},
   "outputs": [
    {
     "data": {
      "text/plain": [
       "[0.13333333333333333,\n",
       " 0.13896103896103895,\n",
       " 0.5,\n",
       " 0.15625,\n",
       " 0.0,\n",
       " 0.43,\n",
       " 0.03333333333333334]"
      ]
     },
     "execution_count": 64,
     "metadata": {},
     "output_type": "execute_result"
    }
   ],
   "source": [
    "sentiment_scores(df.iloc[0]['comments'])"
   ]
  },
  {
   "cell_type": "markdown",
   "metadata": {},
   "source": [
    "### Using Gensim's LSI model to find simlarity scores"
   ]
  },
  {
   "cell_type": "code",
   "execution_count": 31,
   "metadata": {
    "collapsed": true
   },
   "outputs": [],
   "source": [
    "from gensim import corpora, models, similarities"
   ]
  },
  {
   "cell_type": "code",
   "execution_count": 32,
   "metadata": {
    "collapsed": true
   },
   "outputs": [],
   "source": [
    "#comments is a list of strings\n",
    "#transcript is string\n",
    "def doc_vec_sims(comments, transcript):\n",
    "    similarity = []\n",
    "    texts = []\n",
    "\n",
    "    #preprocess the text data and build the dictionary\n",
    "    documents = comments\n",
    "    texts = [preprocess(document).split() for document in documents]\n",
    "    dictionary = corpora.Dictionary(texts)\n",
    "\n",
    "    #builds the corpus\n",
    "    corpus = [dictionary.doc2bow(text) for text in texts]\n",
    "\n",
    "    #Market Matrix Format\n",
    "    corpora.MmCorpus.serialize('/tmp/corpus.mm', corpus)\n",
    "    corpus = corpora.MmCorpus('/tmp/corpus.mm')\n",
    "\n",
    "    #comparison document\n",
    "    lsi = models.LsiModel(corpus, id2word=dictionary, num_topics = 10)\n",
    "    query_doc = preprocess(transcript)\n",
    "    vec_bow = dictionary.doc2bow(query_doc.split())\n",
    "    vec_lsi = lsi[vec_bow]\n",
    "    #print(vec_lsi)\n",
    "\n",
    "    index = similarities.MatrixSimilarity(lsi[corpus])\n",
    "    sims = index[vec_lsi]\n",
    "    similarity.append(sims)\n",
    "    return similarity\n",
    "    del dictionary\n",
    "    \n"
   ]
  },
  {
   "cell_type": "markdown",
   "metadata": {},
   "source": [
    "### Finding Questions"
   ]
  },
  {
   "cell_type": "code",
   "execution_count": 33,
   "metadata": {
    "collapsed": true
   },
   "outputs": [],
   "source": [
    "#Questions starters; another way to identify a question is the use of \"?\"\n",
    "wh_ = [\"who's\", 'who', 'where', 'how', 'why', 'tell me', 'explain', \"isn't\", \"is\", \"doesn't\", \"wouldn't\", \"shouldn't\", \"couldn't\"]"
   ]
  },
  {
   "cell_type": "code",
   "execution_count": 34,
   "metadata": {
    "collapsed": true
   },
   "outputs": [],
   "source": [
    "def find_questions(comments):\n",
    "    #sent_tokenizes each comment, and checks to see if it start with a question word or ends with a question mark\n",
    "    #each comment is labelled, each sentence in the each comment is also labelled\n",
    "    #there are 2 labeling systems here\n",
    "    line = 0\n",
    "    big_list = []\n",
    "    for k, v in enumerate(comments): \n",
    "        #k is comment index\n",
    "        #v is comment\n",
    "        #line is comment idex \n",
    "        sents = sent_tokenize(v)\n",
    "        line += 1\n",
    "        for i in sents:\n",
    "            try:\n",
    "                if i.partition(' ')[0].lower() in wh_ or v.partition(' ')[2].split()[0].lower() in wh_ or i.split()[-1][-1] == '?':\n",
    "                    var = (1, k, i)\n",
    "                elif i.partition(' ')[0].lower() == 'when' and i.split()[-1] == '?':\n",
    "                    var = (1,k, i)\n",
    "                elif i.partition(' ')[0].lower() == 'what' and i.split()[-1] == '?':\n",
    "                    var = (1,k, i)\n",
    "                elif i.partition(' ')[0].lower() == \"can't\" and i.split()[-1] == '?':\n",
    "                    var = (1,k, i)           \n",
    "                else:\n",
    "                    var = (0, k, i)\n",
    "\n",
    "            except:\n",
    "                var = (0, k, i)\n",
    "            big_list.append(var)\n",
    "    return big_list"
   ]
  },
  {
   "cell_type": "markdown",
   "metadata": {},
   "source": [
    "### Date"
   ]
  },
  {
   "cell_type": "code",
   "execution_count": 35,
   "metadata": {
    "collapsed": true
   },
   "outputs": [],
   "source": [
    "from datetime import datetime"
   ]
  },
  {
   "cell_type": "code",
   "execution_count": 36,
   "metadata": {
    "collapsed": true
   },
   "outputs": [],
   "source": [
    "def clean_date(date_list):\n",
    "    date = []\n",
    "    for i in range(len(date_list)):\n",
    "        da = date_list[i].replace(\":\",\"\").replace(\"-\",\" \")\n",
    "        date.append(da)\n",
    "\n",
    "    date2 = []\n",
    "    for i in date:\n",
    "        try: \n",
    "            da = datetime.strptime(i, '%b %d %Y')\n",
    "            date2.append(da)\n",
    "        except:\n",
    "            da = datetime.strptime(i, '%Y %m %d')\n",
    "            date2.append(da)\n",
    "            \n",
    "    days_posted=[]\n",
    "    for i in date2:\n",
    "        da = most_recent - i\n",
    "        days_posted.append(da.days)\n",
    "    return days_posted"
   ]
  },
  {
   "cell_type": "markdown",
   "metadata": {},
   "source": [
    "# Prioritizing TedTalk Comments"
   ]
  },
  {
   "cell_type": "code",
   "execution_count": 42,
   "metadata": {},
   "outputs": [],
   "source": [
    "most_recent = datetime.strptime('Sep 20 2012', '%b %d %Y')\n",
    "def prioritize_comments(doc_index):\n",
    "\n",
    "    comments = df.iloc[doc_index]['comments']\n",
    "    transcripts = df['transcripts'][doc_index]\n",
    "    d_list = df.iloc[doc_index]['date']\n",
    "    \n",
    "    similarity = doc_vec_sims(comments, transcripts)\n",
    "    sims = similarity[0]\n",
    "    sentiments = sentiment_scores(comments)\n",
    "    \n",
    "    comm_ = [c for c in comments]\n",
    "    \n",
    "    #Sentiment\n",
    "    sentiment = sentiment_scores(comments)\n",
    "    \n",
    "    #Find Questions\n",
    "    big_list = find_questions(comments)\n",
    "    question_df = pd.DataFrame(big_list, columns = ['TF', 'comment_id', 'comment'])\t\n",
    "    tmp = question_df.groupby('comment_id').sum()\n",
    "    \n",
    "    ##True/False\n",
    "    question = []\n",
    "    for i in tmp.values:\n",
    "        if i >= 1:\n",
    "            question.append(1)\n",
    "        else:\n",
    "            question.append(0)\n",
    "    \n",
    "    ##Comment Length\n",
    "    comment_length = [len(i) for i in comments]\n",
    "    \n",
    "    ##Date\n",
    "    d_posted = clean_date(d_list)\n",
    "\n",
    "    #create dataframe for sorting\n",
    "    tmp = pd.DataFrame({\"date_posted\": d_list, \"days_posted\": d_posted, \"similarity\": sims, \n",
    "                        \"question\": question, \"comment length\": comment_length, \"comments\": comm_,\n",
    "                        'sentiment': sentiment})\n",
    "    \n",
    "    #top 10 items according to definition\n",
    "    ind = tmp.sort_values(['days_posted', 'similarity', 'sentiment', 'question', 'comment length'], ascending = [True, False, False, False, False])[:10].index\n",
    "    \n",
    "    #print recommendations\n",
    "    li = ind.values\n",
    "    for i in li:\n",
    "        print(\"document_number: \"+str(i), \n",
    "              \"days_posted: \"+str(tmp.iloc[i]['days_posted']), \n",
    "              \"similarity_score: \"+str(tmp.iloc[i]['similarity']), \n",
    "              \"sentiment: \"+str(round(tmp.iloc[i]['sentiment'], 2)),\n",
    "              \"comment: \"+str(tmp.iloc[i]['comments']), sep=\"\\n\")\n",
    "        print()"
   ]
  },
  {
   "cell_type": "code",
   "execution_count": 43,
   "metadata": {},
   "outputs": [
    {
     "name": "stdout",
     "output_type": "stream",
     "text": [
      "document_number: 0\n",
      "days_posted: 50\n",
      "similarity_score: 0.4660036\n",
      "sentiment: 0.14\n",
      "comment: Although the soldiers' plight is undoubtedly real and any suffering is worthy of our sympathy, this piece is undoubtedly propaganda and doesn't belong in TED.\n",
      "\n",
      "document_number: 1\n",
      "days_posted: 57\n",
      "similarity_score: 0.44467694\n",
      "sentiment: 0.0\n",
      "comment: Thank you for showing sympathy and humanity to the soldiers.\n",
      "\n",
      "document_number: 2\n",
      "days_posted: 114\n",
      "similarity_score: 0.6133998\n",
      "sentiment: -0.5\n",
      "comment: if we could only put the camera on the minds of the u.s. soldiers themselves... the suicide death toll has now exceeded the combat death toll for these folks. horrific numbers to digest. http://www.psychalive.org/2012/05/memorial-day-an-opportunity-to-reach-out-to-veterans/ \n",
      "what the hell do we do about that?\n",
      "\n",
      "document_number: 3\n",
      "days_posted: 122\n",
      "similarity_score: 0.095796265\n",
      "sentiment: 0.0\n",
      "comment: Crocodile tears for imperialist invaders. Hardly an Idea Worth Spreading Chris Anderson.\n",
      "\n",
      "document_number: 4\n",
      "days_posted: 167\n",
      "similarity_score: 0.18614173\n",
      "sentiment: 0.08\n",
      "comment: I am applying to speak at TED 2013 about my efforts to build upon Jeremy Gilley's International Peace One Day UN Resolution (A Res 55/282). I have actually proposed to the United Nations that an International Peace EVERY Day Treaty For Global Truce and Global Cease Fire be submitted to all nations for them to review and sign. I call for all 192 world leaders to come together in the United Nations on 9/21/12 to sign the treaty. They are invited to raise their right hand and in unison say \"Global Truce Starts Now! Global Cease Fire Starts Now! May Peace Prevail on Earth and Let It Begin With Me! Then all 192 world leaders are invited to simultaneously issue cease fire orders to their military commanders. I am inviting religious, educational and informal leaders to take part also! \n",
      "I have already written to many world leaders and submitted my idea to them. I have submitted this proposal to the UN Secretary General. I have requested to meet him and asked if I may speak about this idea to the entire UN General Assembly and the entire UN Security Council.  \n",
      "I am inviting all humanity to help make this idea viral. I believe we can create peace. I had to imagine peace and conceptualize backward from the premise that peace is possible. I then reverse engineered. I asked myself what would we need to do to get a global truce and a global cease fire put into place and adhered to.  \n",
      "I wrote up a 200 page proposal containing over 500 ideas on  www.goingforaglobaltruce.com  This is a never ending project that we have to work on 24/7/365. It will take all of humanity's brilliance to figure out the solution to this problem. It won't be easy but nothing worth while is.  \n",
      "I challenge humanity to end all war!  Please make a nonviolent plan as to how you personally can help increase peace on Earth and then please implement that plan.  Please help spread the idea of a global truce and a global cease fire around the world tol the general public, the media and political decision makers.\n",
      "\n",
      "document_number: 5\n",
      "days_posted: 341\n",
      "similarity_score: 0.65377\n",
      "sentiment: -0.08\n",
      "comment: As an Iraqi, I registered a username just to thank all the people who have called out on this horrible propaganda fluff. Joseph Goebbels would be so proud. I find it hilarious that the shoddy film-maker (who's pulling a Kathryn Bigelow, and doing a lousy job at it) is actually trying to tackle the commentators for their lack of 'sensitivity' towards the troops. You'd think from her wailing that American Marines are conscripts sent to a mission against their will. Oh, please. Stop the hyperbole, you're embarrassing yourself.\n",
      "\n",
      "document_number: 6\n",
      "days_posted: 355\n",
      "similarity_score: 0.27979773\n",
      "sentiment: 0.0\n",
      "comment: Another film for the hypothetical TED playhouse. We need access to these films!\n",
      "\n",
      "document_number: 7\n",
      "days_posted: 417\n",
      "similarity_score: 0.32497805\n",
      "sentiment: 0.01\n",
      "comment: Ahmed, \n",
      "I was a soldier in Iraq and part of the unit represented in this documentary.  I would question anyone that told you we went over there to kill Iraqi people.  I spent the better part of my time in Iraq protecting the Iraqi people from insurgents who came from countries outside of Iraq to kill Iraqi people.   \n",
      "We protected families men, women, and children from being robbed and murdered.  We treated Iraqi civilians who were blown up by indiscriminate car bombings and IED's. \n",
      "One insurgent that we captured was a school teacher from another country.  He was told he needed to go to Iraq and fight the Americans because we were \"Eating the Iraqi Children\".  He actually believed we were cannibals feeding on the people of Iraq. \n",
      "We Americans have a history of questioning our leaders and politicians.  Please do the same and actually learn the truth before blindly acting on another's false statements. \n",
      "\"millions of iraq people were killed,no body care and that hurts me\" \n",
      "I can guarantee you that this statement is false.  I think about many of the Iraqi people daily.  Some I will never forget.\n",
      "\n",
      "document_number: 8\n",
      "days_posted: 418\n",
      "similarity_score: 0.4776335\n",
      "sentiment: -0.04\n",
      "comment: sometimes i feel that US soldiers are victims of US policy  \n",
      "they go to wars with bad ideas in their heads they thought that they do that for peace and for the good of the world \n",
      "sometimes I don't blame them they have families they know what is the feeling when you lose some body \n",
      "Whole blame is on the government. \n",
      "millions of iraq people were killed,no body care and that hurts me \n",
      "MS,Deborah  i don't blame you, you are an american  but I want you to think about iraq people what is thier fault?? to be killed like that with no mercy! \n",
      "iam egyptian and have mixed feelings towards  US soldiers ,i find them killers or men who forced to kill in the name of freedom indirectly but of course i hate the US government so much  \n",
      "i just ask you to think about millions of iraq people that died or became homeless,fatherless,with destroyed country , just feel what others feel and don't think only for yourself \n",
      "I DON'T BLAME YOU ,it was a good talk by showing  the human touch \n",
      " i ask you to complete your message by showing to the people the view of the other side of the conflict  \n",
      "as a new war tape. \n",
      "sorry for my english\n",
      "\n",
      "document_number: 9\n",
      "days_posted: 463\n",
      "similarity_score: 0.5660197\n",
      "sentiment: -0.25\n",
      "comment: i just want to say......... plesae stop the war!! violence is not a solution, die and kill are not solutions. i feell sorry about every parts involved, no matter if you are an iraqui or an american soldier, its tragic, please dont support the war, any one at all, dont support the interests of a few with power that dont care about us, they really REALLY DONT CARE.  http://is.gd/esUqaw\n",
      "\n"
     ]
    }
   ],
   "source": [
    "prioritize_comments(150)"
   ]
  },
  {
   "cell_type": "code",
   "execution_count": null,
   "metadata": {
    "collapsed": true
   },
   "outputs": [],
   "source": []
  },
  {
   "cell_type": "code",
   "execution_count": 44,
   "metadata": {
    "collapsed": true
   },
   "outputs": [],
   "source": [
    "#This one removes the sort criteria for date, and prioritizes question in the search criteria.\n",
    "most_recent = datetime.strptime('Sep 20 2012', '%b %d %Y')\n",
    "def pc_model2(doc_index):\n",
    "\n",
    "    comments = df.iloc[doc_index]['comments']\n",
    "    transcripts = df['transcripts'][doc_index]\n",
    "    d_list = df.iloc[doc_index]['date']\n",
    "    \n",
    "    similarity = doc_vec_sims(comments, transcripts)\n",
    "    sims = similarity[0]\n",
    "    \n",
    "    comm_ = [c for c in comments]\n",
    "    \n",
    "    #Sentiment\n",
    "    sentiment = sentiment_scores(comments)\n",
    "    \n",
    "    #Find Questions\n",
    "    big_list = find_questions(comments)\n",
    "    question_df = pd.DataFrame(big_list, columns = ['TF', 'comment_id', 'comment'])\t\n",
    "    tmp = question_df.groupby('comment_id').sum()\n",
    "    \n",
    "    ##True/False\n",
    "    question = []\n",
    "    for i in tmp.values:\n",
    "        if i >= 1:\n",
    "            question.append(1)\n",
    "        else:\n",
    "            question.append(0)\n",
    "    \n",
    "    ##Comment Length\n",
    "    comment_length = [len(i) for i in comments]\n",
    "    \n",
    "    ##Date\n",
    "    d_posted = clean_date(d_list)\n",
    "\n",
    "    #create dataframe for sorting\n",
    "    tmp = pd.DataFrame({\"date_posted\": d_list, \"days_posted\": d_posted, \"similarity\": sims, \n",
    "                        \"sentiment\": sentiment, \"question\": question, \n",
    "                        \"comment length\": comment_length, \"comments\": comm_})\n",
    "    \n",
    "    #top 10 items according to definition\n",
    "    ind = tmp.sort_values(['question', 'similarity', 'sentiment', 'comment length'], ascending = [False, False, False, False])[:10].index\n",
    "    \n",
    "    #print recommendations\n",
    "    li = ind.values\n",
    "    for i in li:\n",
    "        print(\"comment_number: \"+str(i), \"days_posted: \"+str(tmp.iloc[i]['days_posted']), \n",
    "              \"similarity_score: \"+str(tmp.iloc[i]['similarity']), \n",
    "              \"sentiment: \"+str(round(tmp.iloc[i]['sentiment'], 2)),\n",
    "              \"comment: \"+str(tmp.iloc[i]['comments']), sep=\"\\n\")\n",
    "        print()"
   ]
  },
  {
   "cell_type": "code",
   "execution_count": 46,
   "metadata": {
    "scrolled": true
   },
   "outputs": [
    {
     "name": "stdout",
     "output_type": "stream",
     "text": [
      "comment_number: 50\n",
      "days_posted: 1306\n",
      "similarity_score: 0.88319564\n",
      "sentiment: 0.18\n",
      "comment: Like so many others, I must thank you for giving this talk. Whether you are in favour of the war or not does not matter here. I simply appreciate that you have forced us to ask uncomfortable questions. We should know, indeed as a Briton I would like to know, what we are dealing with, what we ask of our soldiers and the effects of their presence on the Iraqi people. Your film tells a vital part of the ongoing story that is not available through the restrictions of reporting a story objectively by even the most even handed news broadcaster. Surely we must have all the information, statistics, perspectives and feelings to really undertake a worthwhile discussion about Iraq and the situation we have found ourselves in? So thank you Ms Scranton. Keep up the good work and be sure to keep the passion that you so obviously carry with you.\n",
      "\n",
      "comment_number: 34\n",
      "days_posted: 1005\n",
      "similarity_score: 0.7300179\n",
      "sentiment: 0.27\n",
      "comment: I am a veteran.  I have witnessed things that are well ... you know.  Anyway, it needs to be said, although some may not like it, we are an all volunteer force.  We place our trust in the hands our our duly elected civilian government and march accordingly.   We are not merks, jerks maybe but then again all of us can be that in a brief moment of intellectual deficiency.  When we try to do something good and it becomes twisted by those who know not what it means to serve a purpose higher than oneself, we get misunderstood.  We are not callous, just trying to be professional.  We care for children of all nationalities, for they are our future.  I just wish their parents cared for them too.  There are responsibilities on both sides and as a parent I always supervised my kids around moving vehicles.  Deb, can you provide me with a link so I can get my own copy?  I have problems with going into crowds and theaters, but I am working on it.  I have a Vietnam Vet Uncle I want to share this with, we compare our experiences and we agree that when pushed even Ghandi fought, in his own way.  You keep doing what you do and know that your impact is respectfully appreciated for telling a story that is ours and needs to be told.  Remember it is not the critic that matters, it is the one who is in the fray toiling for the successful completion of the assigned task that really matters and is the only one that can make a difference.  You are making a difference and I appreciate your efforts, hang in there and even though a story may not have a happy ending...it still ends.\n",
      "\n",
      "comment_number: 10\n",
      "days_posted: 484\n",
      "similarity_score: 0.6301396\n",
      "sentiment: 0.4\n",
      "comment: This is amazing... Though I have not had the chance to catch the whole film (a friend just sent this link to me).  I want to see the film, because the memories I felt just now I can't explain...  As a Vet of Iraq I appreciate what has been done here...\n",
      "\n",
      "comment_number: 14\n",
      "days_posted: 698\n",
      "similarity_score: 0.6253478\n",
      "sentiment: 0.05\n",
      "comment: For those who sit in front of their computers shake their heads and say U.S solders are monsters and murders therefore our country is killing innocent people. \r\n",
      "       Think:  In your town there're gangs that kill, rape and have guns to do as they wish on you, familys. loveones and co-workers.  Then hide behind children and women also hospitals for protection (etc.)  And a group of people form, from your town, to bring things under control and savfety with peace. \r\n",
      "               How would you and others lable the groups and their country?\n",
      "\n",
      "comment_number: 61\n",
      "days_posted: 1744\n",
      "similarity_score: 0.6170167\n",
      "sentiment: 0.01\n",
      "comment: Interesting Jake, \r\n",
      "I think the \"gut feeling\" you're having may carry over from an American social context around obligations of American men of normal military age. I also think you're right - although I am neither male, nor American, if I had the choice to make I would be sick thinking of the effects my actions would be having on human beings in a situation they are unable to control. \r\n",
      "I know of a few men who were members of the American military who have opted out of this war...and have had to opt out of their citizenship in order to do so. You bring up such a great point that I think should be more visible in our everyday lives - what ARE the real, everyday effects of the war?\n",
      "\n",
      "comment_number: 2\n",
      "days_posted: 114\n",
      "similarity_score: 0.6133998\n",
      "sentiment: -0.5\n",
      "comment: if we could only put the camera on the minds of the u.s. soldiers themselves... the suicide death toll has now exceeded the combat death toll for these folks. horrific numbers to digest. http://www.psychalive.org/2012/05/memorial-day-an-opportunity-to-reach-out-to-veterans/ \n",
      "what the hell do we do about that?\n",
      "\n",
      "comment_number: 46\n",
      "days_posted: 1171\n",
      "similarity_score: 0.59690976\n",
      "sentiment: 0.22\n",
      "comment: It is absolutely mind bending that anyone on this planet can support any form of war. There is no justification in any circumstance to kill. To kill a person forces me to believe that equality and ethics do not rule over all else. How can any person, in the existance of human kind, truly convince themselves that their life is more valuable than another. As far as modern wars go (the past 50-100 years), each has it's very unique and secretive way for being completely falsified and unjust. I don't hesitate for a moment in saying that any war supporter would reject all forms in the future if they just took some time to figure who profits from war. Who creates the weapons? Who sells the weapons and to how many opposing groups? Where are the real alliances and supposed \"terrorists\"?  \r\n",
      "To Deborah, thank you very much for the presentation as every opinion and viewpoint is just as compelling and unique as the next.\n",
      "\n",
      "comment_number: 65\n",
      "days_posted: 1782\n",
      "similarity_score: 0.5935307\n",
      "sentiment: 0.12\n",
      "comment: Wow! What a moving presentation. Probably one of the most profound talks on this site. Really made me think about the war and life. There really don't seem to be any easy answers when it comes to the war. Should we stay and finish? Is it possible to finish? Should we withdraw immediately? Did we actually cause all the misery or did we simply hasten the inevitable? Are we responsible for Iraq's future or are the Iraqis? \r\n",
      "In my mind there is only one certainty: The people who started the war based on lies and then mismanaged it because of hubris should be punished. Everything else is open to debate.\n",
      "\n",
      "comment_number: 25\n",
      "days_posted: 905\n",
      "similarity_score: 0.54720646\n",
      "sentiment: -0.08\n",
      "comment: Miss Deborah, \r\n",
      "Thank you for the informative insight you gave on the views of the US soldiers in Iraq and all the stories that you have highlighted on thier bieng only humans with feelings and emotions. The tone that you were giving (to me) is one that you support the invasion of Iraq. \r\n",
      "For all the coverage that you give from the Americans point of view there never seem to be a \"real world\" type tape in the oppinions of the Iraq people, where their sufforing as compared to the comfortable American soldier. You can say it was an accident and they were passing out candy (but if Iraq was not invaded then the kids would have bought their candy at the store).  \r\n",
      "Initial in your speech you said the words warriors a few time if I am not mistaken warriors have a job to create war. Like it or not your soldiers are there to maintain chaos for the people of Iraq so that they could control it. Try using footage from your black ops, from PMC's or your Apache Helicopter Gun Ship that blow up peoples homes. \r\n",
      "A lot of other countries in the world is scared of the US and mostly due to your military might. So are we sad that your soldiers have a tough time in Iraq? Answer for yourself.\n",
      "\n",
      "comment_number: 75\n",
      "days_posted: 1817\n",
      "similarity_score: 0.53827107\n",
      "sentiment: 0.01\n",
      "comment: Ms. Scranton makes a very moving presentation.  She shows so well how psychologically grueling this war must be for American Soldiers.  That aside, in this talk she did not explore the fact that the war is still completely illegal by any international standards (or for that matter moral standards).  Innocent Iraqis are dying every day because of us (myself included).  There is a lot of discussion in this talk about how hard it is to be the invaders, and it comes off as too much self-pity.  We are violating human rights and international law, should we expect anyone to give us a hug for that?\n",
      "\n"
     ]
    }
   ],
   "source": [
    "pc_model2(150)"
   ]
  },
  {
   "cell_type": "code",
   "execution_count": 47,
   "metadata": {},
   "outputs": [
    {
     "data": {
      "text/plain": [
       "['Filmmaker Deborah Scranton talks about and shows clips from her documentary The War Tapes, which puts cameras in the hands of soldiers fighting in Iraq. ',\n",
       " '\\n\\t\\t\\t\\t\\t\\t\\tThe director of the award-winning documentary The War Tapes, Deborah Scranton is committed to using new technology to give people power to tell their own stories.  ',\n",
       " '\\t\\t\\t\\t\\t\\t']"
      ]
     },
     "execution_count": 47,
     "metadata": {},
     "output_type": "execute_result"
    }
   ],
   "source": [
    "json_talk.iloc[150]['description']"
   ]
  },
  {
   "cell_type": "code",
   "execution_count": 48,
   "metadata": {},
   "outputs": [
    {
     "data": {
      "text/html": [
       "<div>\n",
       "<style scoped>\n",
       "    .dataframe tbody tr th:only-of-type {\n",
       "        vertical-align: middle;\n",
       "    }\n",
       "\n",
       "    .dataframe tbody tr th {\n",
       "        vertical-align: top;\n",
       "    }\n",
       "\n",
       "    .dataframe thead th {\n",
       "        text-align: right;\n",
       "    }\n",
       "</style>\n",
       "<table border=\"1\" class=\"dataframe\">\n",
       "  <thead>\n",
       "    <tr style=\"text-align: right;\">\n",
       "      <th></th>\n",
       "      <th>comments</th>\n",
       "      <th>description</th>\n",
       "      <th>film_date</th>\n",
       "      <th>id</th>\n",
       "      <th>publish_date</th>\n",
       "      <th>related_tags</th>\n",
       "      <th>related_themes</th>\n",
       "      <th>related_videos</th>\n",
       "      <th>speaker</th>\n",
       "      <th>ted_event</th>\n",
       "      <th>title</th>\n",
       "      <th>transcript</th>\n",
       "      <th>url</th>\n",
       "      <th>views</th>\n",
       "    </tr>\n",
       "  </thead>\n",
       "  <tbody>\n",
       "    <tr>\n",
       "      <th>37</th>\n",
       "      <td>[{'user_id': 'f8557b5fc3a84049d38e33bba6a3dedb...</td>\n",
       "      <td>[Sir Ken Robinson makes an entertaining and pr...</td>\n",
       "      <td>Feb 2006</td>\n",
       "      <td>59129aacfb6cebbe2c52f30ef3424209f7252e82</td>\n",
       "      <td>Jun 2006</td>\n",
       "      <td>[Children, Creativity, Culture, Dance, Educati...</td>\n",
       "      <td>[Bold Predictions, Stern Warnings, How the Min...</td>\n",
       "      <td>[Sir Ken Robinson: Bring on the learning revol...</td>\n",
       "      <td>Ken Robinson</td>\n",
       "      <td>TED2006</td>\n",
       "      <td>[Ken Robinson says schools kill creativity]</td>\n",
       "      <td>Good morning. How are you? It's been great, ha...</td>\n",
       "      <td>http://www.ted.com/talks/ken_robinson_says_sch...</td>\n",
       "      <td>[12,056,699]</td>\n",
       "    </tr>\n",
       "  </tbody>\n",
       "</table>\n",
       "</div>"
      ],
      "text/plain": [
       "                                             comments  \\\n",
       "37  [{'user_id': 'f8557b5fc3a84049d38e33bba6a3dedb...   \n",
       "\n",
       "                                          description film_date  \\\n",
       "37  [Sir Ken Robinson makes an entertaining and pr...  Feb 2006   \n",
       "\n",
       "                                          id publish_date  \\\n",
       "37  59129aacfb6cebbe2c52f30ef3424209f7252e82     Jun 2006   \n",
       "\n",
       "                                         related_tags  \\\n",
       "37  [Children, Creativity, Culture, Dance, Educati...   \n",
       "\n",
       "                                       related_themes  \\\n",
       "37  [Bold Predictions, Stern Warnings, How the Min...   \n",
       "\n",
       "                                       related_videos       speaker ted_event  \\\n",
       "37  [Sir Ken Robinson: Bring on the learning revol...  Ken Robinson   TED2006   \n",
       "\n",
       "                                          title  \\\n",
       "37  [Ken Robinson says schools kill creativity]   \n",
       "\n",
       "                                           transcript  \\\n",
       "37  Good morning. How are you? It's been great, ha...   \n",
       "\n",
       "                                                  url         views  \n",
       "37  http://www.ted.com/talks/ken_robinson_says_sch...  [12,056,699]  "
      ]
     },
     "execution_count": 48,
     "metadata": {},
     "output_type": "execute_result"
    }
   ],
   "source": [
    "json_talk[json_talk['id'] == '59129aacfb6cebbe2c52f30ef3424209f7252e82']"
   ]
  },
  {
   "cell_type": "code",
   "execution_count": 49,
   "metadata": {},
   "outputs": [
    {
     "name": "stdout",
     "output_type": "stream",
     "text": [
      "comment_number: 964\n",
      "days_posted: 1176\n",
      "similarity_score: 0.9878814\n",
      "sentiment: 0.16\n",
      "comment: beautifully said. in my less elegant and more outraged sense, modern compulsory schooling has been a tool of the dominant class to dump the basic training costs of their labor force on the rest of us. schools act like big factories producing obedient and compliant workers (sheep for the slaughter). BlankEmpty slates to be filled in based on industrial needs. They really have no need for artists or dancers or musicians. The question is what are we all willing to do about it? I don't understand how we willingly allow kids to be treated like nothing but just another human \"resource\". I say we fight back and let these bastards that run our schools know, that enough is enough. lets educate our children outside these behavioral laboratories they call schools. get out of kids way and help them find what they want to learn. Help them discover a genuine enthusiasm! DAMN THE MAN! Not for any moral imperative, but don't we all dislike education while under a threat of force or just to get a job?\n",
      "\n",
      "comment_number: 341\n",
      "days_posted: 396\n",
      "similarity_score: 0.96938497\n",
      "sentiment: -0.06\n",
      "comment: I think the moment we lost our Creativity , is the moment we are forced to believe the concept \"impossible\". ( If a kid say : I wanted to walk through the walls , the parents will respond : it is not possible my dear. Why is it not possible ? The \"logic\" most of us taught to kids aren't the real logic of how the world really works. Just because we think that Particle is a hard concept , that doesn't mean that a kid won't be able to understand it , and even if the kid don't understand it , the kid might understand the concept one day. ) \n",
      "I believe everyone is creative(it depends on how to define the meaning) in some way , and is talent at something.  \n",
      "In my view , school is really a good place to sort out the smart ones who survive the education system and create stupid people (to work as labour) .  \n",
      "Talent is uselss without the proper knowledge and a way to use it. \n",
      "If education is base on interest and talent , I believe everyone will become a specialist , and technology will move ahead in lighting speed.\n",
      "\n",
      "comment_number: 40\n",
      "days_posted: 52\n",
      "similarity_score: 0.95767474\n",
      "sentiment: 0.52\n",
      "comment: This is a great piece for Africa. Our educational system has not been re-invented to focus on the needs of today's generation,not to think of the needs of tomorrow. But it is our collective responsibility to choose the paths that we intend to thread, if indeed, we want to discover our creative abilities.\n",
      "\n",
      "comment_number: 774\n",
      "days_posted: 940\n",
      "similarity_score: 0.94999653\n",
      "sentiment: 0.17\n",
      "comment: This is a reply to Bntam Zormorm (see below)- it seems the strings dont allow ongoing debate beyond some point. \r\n",
      "Surely you know you can't spend a tax dollar twice.  - or is there a creative accountant (ala Bernie Madoff) who can?!?!   If we spend public funds on 12yr old dance classes, there is less in the budget for EVERYTHING else including health, environment, transport, etc.  Put simply any separation of budgets is an artifical construct, it all comes out of the same pot.\n",
      "\n",
      "comment_number: 997\n",
      "days_posted: 1209\n",
      "similarity_score: 0.94970304\n",
      "sentiment: 0.25\n",
      "comment: This is one of my all time favorite TED talks. I am both an Artist and an Educator. My brain is constantly on ambidextrous overload with both sides firing off synapses all the time. School and college were the biggest bore to me. I was constantly challenging every thing people taught me to believe and when I finally surrendered I found my self allowing others to manipulate my talents for their own financial gain. We are all unique and it takes an extraordinary gift to first recognize what it is that makes each child special and then be sensitive and wise enough to help bring out their potentials and talents. Education needs to be vast and much more inclusive to new ideas, cultures, technologies, discoveries and techniques so that our children are afforded every opportunity to be all they can be. No one should ever be brought up forced to fit into a mold or box that stunts their imagination or creativity.\n",
      "\n",
      "comment_number: 1220\n",
      "days_posted: 1480\n",
      "similarity_score: 0.9444591\n",
      "sentiment: 0.22\n",
      "comment: I think that the speaker has some valid points, for sure, I agree that yes the worlds education system is suffering, and yes the world will probably suffer for today's mistakes later on. I don't agree with everything he says, but he certainly does make some valid points. For example, he speaks of this one particular person who ended up successful and a millionaire because as a child, her mother let the \"shrink\" talk her into becoming a dancer. No as nice as a story like that is, it's not really a good representation of the entire world. If it were, and it happened that way with everyone in the world, then wouldn't everyone be a dancer, or a singer, or a painter? You see I firmly believe in going to school to train for a job you find of interest, but also knowing that there's not some degree out there that guarantees an individual a permanent dancing gig. You know? I'm a singer, I even sell music online sometimes. Does that mean I make that my job? No. It means that I'll continue on with my hobby for most likely the rest of my life, BUT that I'll go to school to acquire a degree that will (only) aid me in finding a job in the next best thing that I find of interest, which is broadcasting/journalism. It's great because I know I'll find work in some sort of way for the public entity, but that I'll also never quit my music. By doing this I don't see myself as giving up on a so called dream. I call this reality.\n",
      "\n",
      "comment_number: 235\n",
      "days_posted: 271\n",
      "similarity_score: 0.9437267\n",
      "sentiment: 0.24\n",
      "comment: It's true, creative children/adults are being deterred/moulded to follow similar office careers.  Their talent/skills are unfortunately being erased from them by either families, partners and the general system. \n",
      "I too have felt that it was/is a constant battle to want to do what I am talented/skilled in and what I enjoy doing because it makes me happy. \n",
      "In life one is suppose to do what they are talented in or enjoy doing.  It's like creativity is a subject whereby it's looked down on by others who are not into it.   \n",
      "I thought we are suppose to be ourselves and express ourselves, by doing what's right for us and not copying/following others or things that are not us? \n",
      "This is an example of others/the system being hypercritical.  Not everything revolves around money.  It's just like in the West people have everything materialistic, but in really poor countries they have nothing, sometimes not even food/water.  But if you give them a football they are happy.  It's not all about quantity...it's quality and what makes you naturally happy.\n",
      "\n",
      "comment_number: 1141\n",
      "days_posted: 1358\n",
      "similarity_score: 0.9416723\n",
      "sentiment: 0.43\n",
      "comment: Most impressed, I worked in a senior school for 7 years and everything he said is 'bang on the money'. Encouraging to know that an academic of his stature has the insight and knowledge that could revolutionise our archaic education systems. Brilliant!! \r\n",
      "However, I'd like to point out that his method of teaching in which his talk isn't just fun but down right funny is the best way to make others remember what you have taught! No one forgets a joke do they? He was hilarious, obviously his creative talent his delivery of humour.\n",
      "\n",
      "comment_number: 856\n",
      "days_posted: 1042\n",
      "similarity_score: 0.9407972\n",
      "sentiment: 0.21\n",
      "comment: It's very simple: who would for example be the best astronomer? \r\n",
      "1. someone who followed the present education path and literally spend years learning stuff that was of no use for him or her pre to astronomy \r\n",
      "2. an auto didact person who spend all of his/her life working in a joyful flow to learn everything that realy interests him or her... (obviously this will for a great deal be astronomy) \r\n",
      "There is no discussion needed to see that a person in a flow learns many times more. It goes for every knowledge and creative proffession on earth. The problem in our present system:  \r\n",
      "nr 1. gets financed, recognition and all resources to learn, wil get payed and work with the newest technology. \r\n",
      "nr 2. gets nothing but speeches that he should be doing something with his life! and will have trouble feeding let alone have the resources to devolep his knowledge. \r\n",
      "The biggest problem mankind suffers isn't global pollution(would easly been solved) its the system that makes sheeps out of geniuses\n",
      "\n",
      "comment_number: 242\n",
      "days_posted: 281\n",
      "similarity_score: 0.9386969\n",
      "sentiment: 0.21\n",
      "comment: This is definitely one of the best TED talks out there, but I guess I'm a little confused about the argument. Yes, the arts are very important and constantly undermined by our education system, but why would we consider the arts the only way to be creative? He says creativity is the ability to make new ideas that have worth (or something along those lines), and people are doing that everyday through what they learned in school. The top thinkers of our time are generating ideas about cures for diseases and new green technologies and how economies work and so on and so forth. These are the things I'm being taught in school, and the things that someday I can someday be creative about and help society and the world in general. I love music, art, and dance, but the world and humankind doesn't need more musicians or artists, we need to keep discovering how the world around us works and how to use what we can to prosper and evolve. Much respect to Sir Ken Robinson though!\n",
      "\n"
     ]
    }
   ],
   "source": [
    "pc_model2(37)"
   ]
  },
  {
   "cell_type": "code",
   "execution_count": 50,
   "metadata": {},
   "outputs": [
    {
     "data": {
      "text/html": [
       "<div>\n",
       "<style scoped>\n",
       "    .dataframe tbody tr th:only-of-type {\n",
       "        vertical-align: middle;\n",
       "    }\n",
       "\n",
       "    .dataframe tbody tr th {\n",
       "        vertical-align: top;\n",
       "    }\n",
       "\n",
       "    .dataframe thead th {\n",
       "        text-align: right;\n",
       "    }\n",
       "</style>\n",
       "<table border=\"1\" class=\"dataframe\">\n",
       "  <thead>\n",
       "    <tr style=\"text-align: right;\">\n",
       "      <th></th>\n",
       "      <th>comments</th>\n",
       "      <th>description</th>\n",
       "      <th>film_date</th>\n",
       "      <th>id</th>\n",
       "      <th>publish_date</th>\n",
       "      <th>related_tags</th>\n",
       "      <th>related_themes</th>\n",
       "      <th>related_videos</th>\n",
       "      <th>speaker</th>\n",
       "      <th>ted_event</th>\n",
       "      <th>title</th>\n",
       "      <th>transcript</th>\n",
       "      <th>url</th>\n",
       "      <th>views</th>\n",
       "    </tr>\n",
       "  </thead>\n",
       "  <tbody>\n",
       "    <tr>\n",
       "      <th>187</th>\n",
       "      <td>[{'user_id': '36258a9b4188d47adb520cfcdb2a85a6...</td>\n",
       "      <td>[Richard Dawkins urges all atheists to openly ...</td>\n",
       "      <td>Feb 2002</td>\n",
       "      <td>e993215bfdaa515f6ea00fafc1918f549119f993</td>\n",
       "      <td>Apr 2007</td>\n",
       "      <td>[Atheism, Culture, God, Politics, Religion, Sc...</td>\n",
       "      <td>[Bold Predictions, Stern Warnings, Is There a ...</td>\n",
       "      <td>[Julia Sweeney: Letting go of God, Dan Dennett...</td>\n",
       "      <td>Richard Dawkins</td>\n",
       "      <td>TED2002</td>\n",
       "      <td>[Richard Dawkins: Militant atheism]</td>\n",
       "      <td>That splendid music, the coming-in music -- \"T...</td>\n",
       "      <td>http://www.ted.com/talks/richard_dawkins_on_mi...</td>\n",
       "      <td>[1,763,738]</td>\n",
       "    </tr>\n",
       "  </tbody>\n",
       "</table>\n",
       "</div>"
      ],
      "text/plain": [
       "                                              comments  \\\n",
       "187  [{'user_id': '36258a9b4188d47adb520cfcdb2a85a6...   \n",
       "\n",
       "                                           description film_date  \\\n",
       "187  [Richard Dawkins urges all atheists to openly ...  Feb 2002   \n",
       "\n",
       "                                           id publish_date  \\\n",
       "187  e993215bfdaa515f6ea00fafc1918f549119f993     Apr 2007   \n",
       "\n",
       "                                          related_tags  \\\n",
       "187  [Atheism, Culture, God, Politics, Religion, Sc...   \n",
       "\n",
       "                                        related_themes  \\\n",
       "187  [Bold Predictions, Stern Warnings, Is There a ...   \n",
       "\n",
       "                                        related_videos          speaker  \\\n",
       "187  [Julia Sweeney: Letting go of God, Dan Dennett...  Richard Dawkins   \n",
       "\n",
       "    ted_event                                title  \\\n",
       "187   TED2002  [Richard Dawkins: Militant atheism]   \n",
       "\n",
       "                                            transcript  \\\n",
       "187  That splendid music, the coming-in music -- \"T...   \n",
       "\n",
       "                                                   url        views  \n",
       "187  http://www.ted.com/talks/richard_dawkins_on_mi...  [1,763,738]  "
      ]
     },
     "execution_count": 50,
     "metadata": {},
     "output_type": "execute_result"
    }
   ],
   "source": [
    "json_talk[json_talk['id'] == 'e993215bfdaa515f6ea00fafc1918f549119f993']"
   ]
  },
  {
   "cell_type": "code",
   "execution_count": 51,
   "metadata": {},
   "outputs": [
    {
     "data": {
      "text/plain": [
       "'http://www.ted.com/talks/richard_dawkins_on_militant_atheism.html'"
      ]
     },
     "execution_count": 51,
     "metadata": {},
     "output_type": "execute_result"
    }
   ],
   "source": [
    "json_talk.iloc[187]['url']"
   ]
  },
  {
   "cell_type": "code",
   "execution_count": 52,
   "metadata": {
    "scrolled": true
   },
   "outputs": [
    {
     "name": "stdout",
     "output_type": "stream",
     "text": [
      "comment_number: 1483\n",
      "days_posted: 1353\n",
      "similarity_score: 0.9488484\n",
      "sentiment: 0.19\n",
      "comment: @ Francois You clearly already have already decided for me what my position is \n",
      "I try  to use terms like \"seem\" and \"appear\" I am not trying to define you I was just pointing out that when questioned on why you would back militant atheism you  seem  to deviate from the talk.  I think I do understand what you're saying as best as anyone could being that you insist on using certain vocabulary then when questioned you give me what  your  definition is for the word in question  (atheism, zealot, indoctrination).  So please forgive me for not knowing ahead of time what your definitions are for words before you mince, no julienne them.  Why you think I should have the exact same opinion as Dawkins boggles my mind \n",
      "Let me remind you.  My initial point was that the presenter was no different than any grandstanding religious fundamentalist and who's talk was more bravado than substance.  You defended his point citing that   It helps nothing to call the laws God, but neither does it hurt anyone .  Since then I have tried to illustrate that it does help to seek common ground between the two factions as  they both have good information to share. \n",
      "Lastly , about me trying to define what you think.  Let me remind you of your comments.  To be fair, this view is commonly referred to as Pantheism, or Einsteinian religion .  You see I am secure in where I am philosophically right now.  So I did not feel the need to protest the attempt to label me, I just let it slide off.\n",
      "\n",
      "comment_number: 1341\n",
      "days_posted: 1323\n",
      "similarity_score: 0.9439785\n",
      "sentiment: 0.06\n",
      "comment: Damien, a few things: \r\n",
      "1.  I didn't say atheism was new.  I said that outspoken atheism is a reactionary viewpoint.  The only requirement for one to be an atheist is that you do not believe in God.  If nobody else did either, the word 'atheist' needn't ever be uttered.  Don't patronise me by trying to give me a lesson about Socrates.   Also, why did you put the words \"enlightened\" and \"original\" in quotation marks?  I never said them. \r\n",
      "2.  Would the 9/11 hijackers have flown those planes into the WTC  if  they did not believe they would be posthumously rewarded?  Perhaps, but it must have made it much easier for them to do it.  Irrational beliefs affect us all, whether or not we are the ones that hold them. \r\n",
      "3.  Kindly elaborate on your assertion that I treat Dawkins as a 'God'.  Isn't it a little presumptive to claim that I worship him? \r\n",
      "4.  You seem to be mistaking me for someone who thinks he has all the answers.  I don't know what caused the big bang.  I don't know beyond doubt that the big bang happened.  I can't know.  I have a problem with those who claim they do.  Again, you're attacking a straw man. \r\n",
      "5.  I ask the question again: does religion (true or false) affect our daily life, or doesn't it?\n",
      "\n",
      "comment_number: 846\n",
      "days_posted: 1257\n",
      "similarity_score: 0.9405221\n",
      "sentiment: 0.27\n",
      "comment: I agree with Dawkins on much of what he says. Except that I foresee a significant danger: \r\n",
      "What is going to happen when those with stronger authoritarian drives (perhaps the majority by many accounts) are threatened by the decline of authoritarian culture (or old fashioned attitudes) and the growing power of progressive liberal culture? It could result in significant social breakdown, violence, and a lot of suffering. \r\n",
      "Those who are not authoritarian will have to find a way to help authoritarians heal the deep scars that got them there in the first place - to help them grow beyond simple childhood attitudes, and to understand the meaning of 'the sins of the fathers shall be visited on the sons', and to understand the true meaning of Love. [...] we should not be talking of waging a war against those who crave authoritarian leadership but of making peace and Love with them. http://usofc.wordpress.com/2009/04/12/authoritarianism-culture-and-mind/\n",
      "\n",
      "comment_number: 1085\n",
      "days_posted: 1298\n",
      "similarity_score: 0.93448985\n",
      "sentiment: 0.05\n",
      "comment: Jose \r\n",
      "Can you  really  not see how pattern is not intelligence?  Then your argument is a strange, watered-down Intelligent Design. \r\n",
      "All you have said so far is that \"there is a pattern\", that this somehow constitutes intelligence, and that you are justified in equating 'order' with 'God'.  Why would you use such a loaded, personal term for something you do not think is personal?  I maintain that this is nothing but metaphor.  Your belief does not make any claim about reality, just about the impression it gives you.  If you are only stating your impression of natural order and not making a claim about its origin, then there is no right or wrong answer.  But this is not religion, nor is it spirituality.  It's just poetry - like when I describe myself as an island without claiming to actually be one.  Poetry is not what we're discussing - we're talking about what  is .\n",
      "\n",
      "comment_number: 420\n",
      "days_posted: 989\n",
      "similarity_score: 0.9342369\n",
      "sentiment: 0.17\n",
      "comment: Many references below to harm done by religion, (more accurate to say some religions, not all), certainly no argument there. In all due respect isn't it true that science has also been responsible for things like - the atomic bomb, the nuclear bomb, harmful drugs and chemicals (which our world is now swimming in)  that are ruining the environment and causing cancer etc. Governments of all forms have done harm from the beginning of history through to today. What's the common denominator here? People. People often acting out of unconsciousness, lack of foresight, fear, greed, \n",
      "Perhaps it is not whether someone believes in God, is agnostic or atheist that we should care so deeply about. I am far less concerned about whether evolution and intelligent design are taught in the schools as I am about whether children/we are learning things like - conflict resolution, tolerance, non-violence, compassion, consideration of the affects of and responsibility for one's actions.\n",
      "\n",
      "comment_number: 1503\n",
      "days_posted: 1356\n",
      "similarity_score: 0.9276772\n",
      "sentiment: -0.1\n",
      "comment: Jose, I'm sorry, but I must take you up on three points \n",
      "1. Why call the natural laws God?  \n",
      "The point here is that the natural laws can be called the Natural laws. If a person calls himself a believer, but his God is nothing but the natural laws, then his view does not differ from that of the humanist. He simply uses a different word to describe it. The disagreement is semantic.  \n",
      "2. People who believe are inferior or stupid.  \n",
      "    A priori, this is false. Intellectual capacity and religious belief are not mutually exclusive. With this being said, religion DOES appeal in particular to the poor, uneducated and the unfortunate. This is observable, quantifiable fact based on research and data. Furthermore, the probability of being a religious believer goes down significantly among individuals as the education level goes up. This is what Dawkins is saying here and again, this is backed by the data. To say that I or Dawkins think religious people are by definition stupid IS divisive and it grossly misrepresents the argument made.  \n",
      "3. Religion has been destructive and caused great misery. \n",
      "    Well, I don't know about other non religious people, but I wouldn't back away from that claim although I would want to nuance it a bit. Religious belief has many good things going for it. But it would be ludicrous to suggest that religion has NOT caused misery. Moreover, it has done so based on propositions which are often manifestly false. (Sure AIDS is bad, but Condoms are much worse).  \n",
      "   As you say, we can't disprove there is a God. The point of secularism or humanism is that since no one could possibly know these things, it is ludicrous to base our lives on religious doctrine. We must organize our societies on facts that we CAN verify. \n",
      "       I'll close by saying if you perceive 'Atheism' as a belief system, you are simply mistaken. Atheism implies that one should base his life on what he knows, not on what he doesn't.\n",
      "\n",
      "comment_number: 2124\n",
      "days_posted: 1683\n",
      "similarity_score: 0.9253258\n",
      "sentiment: 0.0\n",
      "comment: Someone mentioned that Douglas Adams was invited to give a talk on TED in response to Richard Dawkin's query. I'm actually a fan of both. However, I can't seem to find the video on Douglas Adams on TED using the search tool. Any idea where/how I could view that?\n",
      "\n",
      "comment_number: 13\n",
      "days_posted: 40\n",
      "similarity_score: 0.92408705\n",
      "sentiment: 0.21\n",
      "comment: I very much enjoyed this talk and find Dawkins to be engaging and very insightful. I am an atheist myself (although I only started calling myself one after inspiration from Dawkins; I'd hesitated beforehand because I couldn't say with certainty that there is no god) so I suppose it's natural I would like this talk. \n",
      "However, there is something that bugs me about Dawkins' approach. There is something about his style that I fear will only anger theists and have the opposite effect. But maybe his goal is preaching to the choir to encourage atheists to take a stand....Atheism is not a religion or way of life, but he talks as if he is defending one - with conviction and condescension that is sure to wound a theist's pride. I cannot think of a better approach to encourage rationality over superstition (that is the point of his mission, right?), since a direct challenge to one's deeply held beliefs is sure to arouse anger and defense. \n",
      "I work with devout Mormons in a town that is 95% Mormon. I think their beliefs are completely nonsensical and bizarre, but the people themselves are very kind and respectable. We have had many conversations about religion and I know that, were I to \"stop being so damn respectable,\" the conversation would cease and they would no longer be open and honest with me. I also feel it is impossible to change their minds. Many of them admit there is no way to prove that God exists except to feel it. How does one respond to that? \n",
      "Anyway, as I said I do not know a better way to expose the absurdity of religion, but I do believe it is a worthy mission for the sole reason of encouraging rationality, logic and skepticism. So I am glad that Dawkins has sparked such a debate; he has the best mind for it, but his style will not convert most theists. Furthermore, atheists with the character to attack the absurdity of religion head-on are most likely the type to do so carelessly and without tact, for the sole purpose of proving their point.\n",
      "\n",
      "comment_number: 159\n",
      "days_posted: 578\n",
      "similarity_score: 0.9240784\n",
      "sentiment: 0.25\n",
      "comment: Ok...in religious circles (I'm a Christian) I can see why individuals may denigrate one another, though I don't espouse this. If they take that whole 144,000 thing in the Bible literally...well hell...they're jockeying for \"seats\" in Heaven. What I don't understand is for what position atheists are jockeying. The idea that atheists are in a place, by virtue of their non-belief, to judge those of us who are of  a faith as inferior intellectually and morally is right on par with the judgmental stance that the faithful (especially Christians) are said to possess. Science and faith are not mutually exclusive to all of us. Religion is not the anti-intellectual to all of us.  Many of us (a vastly growing number) are becoming more tolerant and accepting in disposition, ecumenical in philosophy, and more interdisciplinary in approach. When those of us who are willing to have the tough, rational, but civil conversations are around, where are these militant atheists? It seems that the most outspoken among them are cynical, condescending, and call for others to share these traits. Moreover, atheists speak of this group monolithically. A relationship with any deity is intensely personal. No one thing can be said of all Christians...not even the belief in Christ (I know a Pentecostal...another story). My personal trek has taken me through Buddhism, agnosticism, Jewish mysticism, and back...and my personal theology has been altered and greatly influenced by all these. I feel like I'm a better man of faith for my various studies and experiences. Men like Dawkins and Hitchens are insanely intelligent, and have a lot to say, but aren't so great at listening. It's easy to compile examples of the inane to use against the faithful...it's much harder to sit down and reason with a woman/man of faith that is rational and equally intelligent, but that exchange is the more beautiful interaction. We've enough warring factions. Answers are not so important as the questions...and the journey.\n",
      "\n",
      "comment_number: 77\n",
      "days_posted: 343\n",
      "similarity_score: 0.92266613\n",
      "sentiment: 0.09\n",
      "comment: Technology. Entertainment. Design (but not Intelligent Design!) \n",
      "I don't understand where TED took Ideas Worth Spreading, and added Beliefs Worth Bashing.  Is TED inherently an atheist organization but fails to promote itself that way? \n",
      "I think Richard Dawkins is a very intelligent man, and I appreciated some of his jokes.  Unfortunately, many of his jokes and jabs were at a distortion of Christianity that I don't (but unfortunately a large majority does) partake in.  Certainly there are a lot of flaws with close-minded ultra-conservatives who use religion as a political weapon, but they do not represent God nor those of us actually trying down here.  So please, Richard Dawkins, and other TED speakers, when trying to fight back against the bigotry of the political right, please don't steep yourself in the bigotry of using the (unfortunate) norms of Christianity to stereotype the actual meanings or individual believers. \n",
      "As a side note, I believe in evolution, love science, and have always been encouraged by religious leaders to question my faith at every opportunity.  I don't think Jesus would have endorsed Bush, or Obama, or Clinton, or Gore, or Reagan. I don't think One Nation Under God is exclusive to other nations.  Dawkins asserts the burden of proof is on the believer.  I would agree and say the burden is even more so on the proclaim-er, because I'm not the one on a stage in front of hundred (and a website in front of millions) telling everyone it is right to BELIEVE there is no God.  If you're going to sell it to me, Dawkins, show me how it works first.  That's a big unanswered question in my book.\n",
      "\n"
     ]
    }
   ],
   "source": [
    "pc_model2(187)"
   ]
  },
  {
   "cell_type": "code",
   "execution_count": 56,
   "metadata": {},
   "outputs": [],
   "source": [
    "scores_187 = sentiment_scores(df.iloc[187]['comments'])\n",
    "scores_150 = sentiment_scores(df.iloc[150]['comments'])"
   ]
  },
  {
   "cell_type": "code",
   "execution_count": 63,
   "metadata": {},
   "outputs": [
    {
     "name": "stdout",
     "output_type": "stream",
     "text": [
      "-1.0 1.0\n",
      "-0.6 0.7\n"
     ]
    }
   ],
   "source": [
    "print(min(scores_187), max(scores_187))\n",
    "print(min(scores_150), max(scores_150))\n",
    "#Here we see that sentiment scores for RD's talk has a wider range. This could be an indication that the topic \n",
    "#was more controversial."
   ]
  },
  {
   "cell_type": "code",
   "execution_count": null,
   "metadata": {
    "collapsed": true
   },
   "outputs": [],
   "source": []
  }
 ],
 "metadata": {
  "kernelspec": {
   "display_name": "Python 3",
   "language": "python",
   "name": "python3"
  },
  "language_info": {
   "codemirror_mode": {
    "name": "ipython",
    "version": 3
   },
   "file_extension": ".py",
   "mimetype": "text/x-python",
   "name": "python",
   "nbconvert_exporter": "python",
   "pygments_lexer": "ipython3",
   "version": "3.6.3"
  }
 },
 "nbformat": 4,
 "nbformat_minor": 2
}
